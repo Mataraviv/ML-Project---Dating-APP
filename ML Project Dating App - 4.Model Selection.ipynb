{
 "cells": [
  {
   "cell_type": "code",
   "execution_count": 1,
   "id": "77963459",
   "metadata": {},
   "outputs": [],
   "source": [
    "import seaborn as sb\n",
    "import pandas as pd\n",
    "import numpy as np\n",
    "import missingno as msno\n",
    "import pickle"
   ]
  },
  {
   "cell_type": "code",
   "execution_count": 2,
   "id": "407b4d11",
   "metadata": {},
   "outputs": [],
   "source": [
    "from sklearn.model_selection import train_test_split\n",
    "from sklearn.linear_model import LinearRegression\n",
    "from sklearn.tree import DecisionTreeRegressor\n",
    "from sklearn.ensemble import RandomForestRegressor, AdaBoostRegressor, GradientBoostingRegressor\n",
    "from sklearn.svm import SVR\n",
    "import xgboost as xgb\n",
    "import sklearn.metrics as metrics \n",
    "from sklearn.model_selection import GridSearchCV\n",
    "import warnings\n",
    "warnings.filterwarnings(\"ignore\", category=FutureWarning)"
   ]
  },
  {
   "cell_type": "code",
   "execution_count": 3,
   "id": "a109ec87",
   "metadata": {
    "scrolled": false
   },
   "outputs": [
    {
     "name": "stdout",
     "output_type": "stream",
     "text": [
      "<class 'pandas.core.frame.DataFrame'>\n",
      "Index: 4008 entries, 4e3842f79b70e7ea57000064 to CRYq7MGpxHpEKfWhmwJygGmRNadHkC9XxPjktwvaiLm6Te2qcCzBYw1uA==\n",
      "Data columns (total 22 columns):\n",
      " #   Column                Non-Null Count  Dtype  \n",
      "---  ------                --------------  -----  \n",
      " 0   age                   4008 non-null   float64\n",
      " 1   counts_pictures       4008 non-null   float64\n",
      " 2   counts_profileVisits  4008 non-null   float64\n",
      " 3   counts_kisses         4008 non-null   float64\n",
      " 4   lastOnlineTs          4008 non-null   float64\n",
      " 5   lang_count            4008 non-null   float64\n",
      " 6   lang_fr               4008 non-null   float64\n",
      " 7   countDetails          4008 non-null   float64\n",
      " 8   distance              4008 non-null   float64\n",
      " 9   mobile                4008 non-null   float64\n",
      " 10  online                4008 non-null   float64\n",
      " 11  connectedToFacebook   4008 non-null   float64\n",
      " 12  genderLooking         4008 non-null   int64  \n",
      " 13  counts_fans           4008 non-null   float64\n",
      " 14  counts_g              4008 non-null   float64\n",
      " 15  isfreshman            4008 non-null   float64\n",
      " 16  IS_lang_pt_es_en_it   4008 non-null   float64\n",
      " 17  nameN                 4008 non-null   int64  \n",
      " 18  cityN                 4008 non-null   int64  \n",
      " 19  locationCityN         4008 non-null   int64  \n",
      " 20  locationCitySubN      4008 non-null   int64  \n",
      " 21  countryN              4008 non-null   int64  \n",
      "dtypes: float64(16), int64(6)\n",
      "memory usage: 720.2+ KB\n"
     ]
    }
   ],
   "source": [
    "# Load dataset and set the 'userId' column as the index\n",
    "df_model = pd.read_csv(r'C:\\Users\\matar.aviv\\Desktop\\python\\Data Science Bar Ilan\\ML Project - Dating App\\df_model.csv')\n",
    "df_model = df_model.set_index('userId')\n",
    "df_model.info()  "
   ]
  },
  {
   "cell_type": "code",
   "execution_count": 4,
   "id": "211c4fdd",
   "metadata": {},
   "outputs": [
    {
     "name": "stdout",
     "output_type": "stream",
     "text": [
      "Training set size: 69.99%\n",
      "Validation (Dev) set size: 15.00%\n",
      "Testing set size: 15.02%\n"
     ]
    }
   ],
   "source": [
    "# Define the target variable ('counts_kisses') and the feature set (all other columns)\n",
    "X = df_model.drop(columns=['counts_kisses'])\n",
    "y = df_model['counts_kisses']\n",
    "\n",
    "# Calculate the total number of samples in the dataset\n",
    "total_samples = len(df_model)\n",
    "\n",
    "# Split the data into training and temporary (test + dev) sets\n",
    "X_train, X_temp, y_train, y_temp = train_test_split(X, y, test_size=0.3, random_state=42)\n",
    "\n",
    "# Further split the temporary set into development (dev) and test sets\n",
    "X_dev, X_test, y_dev, y_test = train_test_split(X_temp, y_temp, test_size=0.5, random_state=42)\n",
    "\n",
    "# Calculate the percentage size of each dataset split\n",
    "train_percent = (X_train.shape[0] / total_samples) * 100\n",
    "dev_percent = (X_dev.shape[0] / total_samples) * 100\n",
    "test_percent = (X_test.shape[0] / total_samples) * 100\n",
    "\n",
    "# Output the sizes of each set in percentages\n",
    "print(f\"Training set size: {train_percent:.2f}%\")\n",
    "print(f\"Validation (Dev) set size: {dev_percent:.2f}%\")\n",
    "print(f\"Testing set size: {test_percent:.2f}%\")"
   ]
  },
  {
   "cell_type": "code",
   "execution_count": 5,
   "id": "cc346e1f",
   "metadata": {},
   "outputs": [],
   "source": [
    "# Define a function to compute regression evaluation metrics\n",
    "def regressionMetrics(y, yhat):\n",
    "    res = {\n",
    "        'MSE': metrics.mean_squared_error(y, yhat),\n",
    "        'RMSE': np.sqrt(metrics.mean_squared_error(y, yhat)),\n",
    "        'MAE': metrics.mean_absolute_error(y, yhat),\n",
    "        'RMSLE': np.sqrt(metrics.mean_squared_log_error(y, yhat))\n",
    "    }\n",
    "    return res"
   ]
  },
  {
   "cell_type": "code",
   "execution_count": 6,
   "id": "865bb7d0",
   "metadata": {},
   "outputs": [],
   "source": [
    "# Initialize dataframes to store evaluation results for each model\n",
    "models_list = pd.DataFrame()\n",
    "models_list_dev = pd.DataFrame()\n",
    "models_list_test = pd.DataFrame()"
   ]
  },
  {
   "cell_type": "code",
   "execution_count": 7,
   "id": "d3d75e5b",
   "metadata": {},
   "outputs": [
    {
     "data": {
      "text/html": [
       "<style>#sk-container-id-1 {color: black;}#sk-container-id-1 pre{padding: 0;}#sk-container-id-1 div.sk-toggleable {background-color: white;}#sk-container-id-1 label.sk-toggleable__label {cursor: pointer;display: block;width: 100%;margin-bottom: 0;padding: 0.3em;box-sizing: border-box;text-align: center;}#sk-container-id-1 label.sk-toggleable__label-arrow:before {content: \"▸\";float: left;margin-right: 0.25em;color: #696969;}#sk-container-id-1 label.sk-toggleable__label-arrow:hover:before {color: black;}#sk-container-id-1 div.sk-estimator:hover label.sk-toggleable__label-arrow:before {color: black;}#sk-container-id-1 div.sk-toggleable__content {max-height: 0;max-width: 0;overflow: hidden;text-align: left;background-color: #f0f8ff;}#sk-container-id-1 div.sk-toggleable__content pre {margin: 0.2em;color: black;border-radius: 0.25em;background-color: #f0f8ff;}#sk-container-id-1 input.sk-toggleable__control:checked~div.sk-toggleable__content {max-height: 200px;max-width: 100%;overflow: auto;}#sk-container-id-1 input.sk-toggleable__control:checked~label.sk-toggleable__label-arrow:before {content: \"▾\";}#sk-container-id-1 div.sk-estimator input.sk-toggleable__control:checked~label.sk-toggleable__label {background-color: #d4ebff;}#sk-container-id-1 div.sk-label input.sk-toggleable__control:checked~label.sk-toggleable__label {background-color: #d4ebff;}#sk-container-id-1 input.sk-hidden--visually {border: 0;clip: rect(1px 1px 1px 1px);clip: rect(1px, 1px, 1px, 1px);height: 1px;margin: -1px;overflow: hidden;padding: 0;position: absolute;width: 1px;}#sk-container-id-1 div.sk-estimator {font-family: monospace;background-color: #f0f8ff;border: 1px dotted black;border-radius: 0.25em;box-sizing: border-box;margin-bottom: 0.5em;}#sk-container-id-1 div.sk-estimator:hover {background-color: #d4ebff;}#sk-container-id-1 div.sk-parallel-item::after {content: \"\";width: 100%;border-bottom: 1px solid gray;flex-grow: 1;}#sk-container-id-1 div.sk-label:hover label.sk-toggleable__label {background-color: #d4ebff;}#sk-container-id-1 div.sk-serial::before {content: \"\";position: absolute;border-left: 1px solid gray;box-sizing: border-box;top: 0;bottom: 0;left: 50%;z-index: 0;}#sk-container-id-1 div.sk-serial {display: flex;flex-direction: column;align-items: center;background-color: white;padding-right: 0.2em;padding-left: 0.2em;position: relative;}#sk-container-id-1 div.sk-item {position: relative;z-index: 1;}#sk-container-id-1 div.sk-parallel {display: flex;align-items: stretch;justify-content: center;background-color: white;position: relative;}#sk-container-id-1 div.sk-item::before, #sk-container-id-1 div.sk-parallel-item::before {content: \"\";position: absolute;border-left: 1px solid gray;box-sizing: border-box;top: 0;bottom: 0;left: 50%;z-index: -1;}#sk-container-id-1 div.sk-parallel-item {display: flex;flex-direction: column;z-index: 1;position: relative;background-color: white;}#sk-container-id-1 div.sk-parallel-item:first-child::after {align-self: flex-end;width: 50%;}#sk-container-id-1 div.sk-parallel-item:last-child::after {align-self: flex-start;width: 50%;}#sk-container-id-1 div.sk-parallel-item:only-child::after {width: 0;}#sk-container-id-1 div.sk-dashed-wrapped {border: 1px dashed gray;margin: 0 0.4em 0.5em 0.4em;box-sizing: border-box;padding-bottom: 0.4em;background-color: white;}#sk-container-id-1 div.sk-label label {font-family: monospace;font-weight: bold;display: inline-block;line-height: 1.2em;}#sk-container-id-1 div.sk-label-container {text-align: center;}#sk-container-id-1 div.sk-container {/* jupyter's `normalize.less` sets `[hidden] { display: none; }` but bootstrap.min.css set `[hidden] { display: none !important; }` so we also need the `!important` here to be able to override the default hidden behavior on the sphinx rendered scikit-learn.org. See: https://github.com/scikit-learn/scikit-learn/issues/21755 */display: inline-block !important;position: relative;}#sk-container-id-1 div.sk-text-repr-fallback {display: none;}</style><div id=\"sk-container-id-1\" class=\"sk-top-container\"><div class=\"sk-text-repr-fallback\"><pre>LinearRegression()</pre><b>In a Jupyter environment, please rerun this cell to show the HTML representation or trust the notebook. <br />On GitHub, the HTML representation is unable to render, please try loading this page with nbviewer.org.</b></div><div class=\"sk-container\" hidden><div class=\"sk-item\"><div class=\"sk-estimator sk-toggleable\"><input class=\"sk-toggleable__control sk-hidden--visually\" id=\"sk-estimator-id-1\" type=\"checkbox\" checked><label for=\"sk-estimator-id-1\" class=\"sk-toggleable__label sk-toggleable__label-arrow\">LinearRegression</label><div class=\"sk-toggleable__content\"><pre>LinearRegression()</pre></div></div></div></div></div>"
      ],
      "text/plain": [
       "LinearRegression()"
      ]
     },
     "execution_count": 7,
     "metadata": {},
     "output_type": "execute_result"
    }
   ],
   "source": [
    "# Train and evaluate Linear Regression model\n",
    "mod1 = LinearRegression()\n",
    "mod1.fit(X_train, y_train)"
   ]
  },
  {
   "cell_type": "code",
   "execution_count": 8,
   "id": "5a5f12d6",
   "metadata": {},
   "outputs": [],
   "source": [
    "# Predict on training and development sets\n",
    "pred1 = mod1.predict(X_train)\n",
    "pred1_dev = mod1.predict(X_dev)"
   ]
  },
  {
   "cell_type": "code",
   "execution_count": 9,
   "id": "ca3b41ca",
   "metadata": {},
   "outputs": [],
   "source": [
    "# Ensure there are no zero or negative values for RMSLE calculation\n",
    "pred1_pos = np.maximum(pred1, 0)  \n",
    "pred1_dev_pos = np.maximum(pred1_dev, 0)"
   ]
  },
  {
   "cell_type": "code",
   "execution_count": 10,
   "id": "6f4e5c17",
   "metadata": {},
   "outputs": [],
   "source": [
    "# Store evaluation metrics for Linear Regression model\n",
    "model_dict = {'model': \"Linear Regression\"}\n",
    "new_row = pd.DataFrame([{**model_dict, **regressionMetrics(y_train, pred1_pos)}])\n",
    "models_list = pd.concat([models_list, new_row], ignore_index=True)\n",
    "\n",
    "model_dict_dev = {'model_dev': \"Linear Regression\"}\n",
    "new_row = pd.DataFrame([{**model_dict_dev, **regressionMetrics(y_dev, pred1_dev_pos)}])\n",
    "models_list_dev = pd.concat([models_list_dev, new_row], ignore_index=True)"
   ]
  },
  {
   "cell_type": "code",
   "execution_count": 11,
   "id": "8f6118d2",
   "metadata": {},
   "outputs": [
    {
     "data": {
      "text/plain": [
       "<Axes: xlabel='counts_kisses'>"
      ]
     },
     "execution_count": 11,
     "metadata": {},
     "output_type": "execute_result"
    },
    {
     "data": {
      "image/png": "[encoded data removed]",
      "text/plain": [
       "<Figure size 640x480 with 1 Axes>"
      ]
     },
     "metadata": {},
     "output_type": "display_data"
    }
   ],
   "source": [
    "# Plot predicted vs. actual values for Linear Regression model\n",
    "sb.scatterplot(x=y_train, y=pred1_pos)\n",
    "sb.scatterplot(x=y_dev, y=pred1_dev_pos)"
   ]
  },
  {
   "cell_type": "code",
   "execution_count": 12,
   "id": "3ecc1259",
   "metadata": {},
   "outputs": [
    {
     "data": {
      "text/html": [
       "<style>#sk-container-id-2 {color: black;}#sk-container-id-2 pre{padding: 0;}#sk-container-id-2 div.sk-toggleable {background-color: white;}#sk-container-id-2 label.sk-toggleable__label {cursor: pointer;display: block;width: 100%;margin-bottom: 0;padding: 0.3em;box-sizing: border-box;text-align: center;}#sk-container-id-2 label.sk-toggleable__label-arrow:before {content: \"▸\";float: left;margin-right: 0.25em;color: #696969;}#sk-container-id-2 label.sk-toggleable__label-arrow:hover:before {color: black;}#sk-container-id-2 div.sk-estimator:hover label.sk-toggleable__label-arrow:before {color: black;}#sk-container-id-2 div.sk-toggleable__content {max-height: 0;max-width: 0;overflow: hidden;text-align: left;background-color: #f0f8ff;}#sk-container-id-2 div.sk-toggleable__content pre {margin: 0.2em;color: black;border-radius: 0.25em;background-color: #f0f8ff;}#sk-container-id-2 input.sk-toggleable__control:checked~div.sk-toggleable__content {max-height: 200px;max-width: 100%;overflow: auto;}#sk-container-id-2 input.sk-toggleable__control:checked~label.sk-toggleable__label-arrow:before {content: \"▾\";}#sk-container-id-2 div.sk-estimator input.sk-toggleable__control:checked~label.sk-toggleable__label {background-color: #d4ebff;}#sk-container-id-2 div.sk-label input.sk-toggleable__control:checked~label.sk-toggleable__label {background-color: #d4ebff;}#sk-container-id-2 input.sk-hidden--visually {border: 0;clip: rect(1px 1px 1px 1px);clip: rect(1px, 1px, 1px, 1px);height: 1px;margin: -1px;overflow: hidden;padding: 0;position: absolute;width: 1px;}#sk-container-id-2 div.sk-estimator {font-family: monospace;background-color: #f0f8ff;border: 1px dotted black;border-radius: 0.25em;box-sizing: border-box;margin-bottom: 0.5em;}#sk-container-id-2 div.sk-estimator:hover {background-color: #d4ebff;}#sk-container-id-2 div.sk-parallel-item::after {content: \"\";width: 100%;border-bottom: 1px solid gray;flex-grow: 1;}#sk-container-id-2 div.sk-label:hover label.sk-toggleable__label {background-color: #d4ebff;}#sk-container-id-2 div.sk-serial::before {content: \"\";position: absolute;border-left: 1px solid gray;box-sizing: border-box;top: 0;bottom: 0;left: 50%;z-index: 0;}#sk-container-id-2 div.sk-serial {display: flex;flex-direction: column;align-items: center;background-color: white;padding-right: 0.2em;padding-left: 0.2em;position: relative;}#sk-container-id-2 div.sk-item {position: relative;z-index: 1;}#sk-container-id-2 div.sk-parallel {display: flex;align-items: stretch;justify-content: center;background-color: white;position: relative;}#sk-container-id-2 div.sk-item::before, #sk-container-id-2 div.sk-parallel-item::before {content: \"\";position: absolute;border-left: 1px solid gray;box-sizing: border-box;top: 0;bottom: 0;left: 50%;z-index: -1;}#sk-container-id-2 div.sk-parallel-item {display: flex;flex-direction: column;z-index: 1;position: relative;background-color: white;}#sk-container-id-2 div.sk-parallel-item:first-child::after {align-self: flex-end;width: 50%;}#sk-container-id-2 div.sk-parallel-item:last-child::after {align-self: flex-start;width: 50%;}#sk-container-id-2 div.sk-parallel-item:only-child::after {width: 0;}#sk-container-id-2 div.sk-dashed-wrapped {border: 1px dashed gray;margin: 0 0.4em 0.5em 0.4em;box-sizing: border-box;padding-bottom: 0.4em;background-color: white;}#sk-container-id-2 div.sk-label label {font-family: monospace;font-weight: bold;display: inline-block;line-height: 1.2em;}#sk-container-id-2 div.sk-label-container {text-align: center;}#sk-container-id-2 div.sk-container {/* jupyter's `normalize.less` sets `[hidden] { display: none; }` but bootstrap.min.css set `[hidden] { display: none !important; }` so we also need the `!important` here to be able to override the default hidden behavior on the sphinx rendered scikit-learn.org. See: https://github.com/scikit-learn/scikit-learn/issues/21755 */display: inline-block !important;position: relative;}#sk-container-id-2 div.sk-text-repr-fallback {display: none;}</style><div id=\"sk-container-id-2\" class=\"sk-top-container\"><div class=\"sk-text-repr-fallback\"><pre>DecisionTreeRegressor(random_state=1)</pre><b>In a Jupyter environment, please rerun this cell to show the HTML representation or trust the notebook. <br />On GitHub, the HTML representation is unable to render, please try loading this page with nbviewer.org.</b></div><div class=\"sk-container\" hidden><div class=\"sk-item\"><div class=\"sk-estimator sk-toggleable\"><input class=\"sk-toggleable__control sk-hidden--visually\" id=\"sk-estimator-id-2\" type=\"checkbox\" checked><label for=\"sk-estimator-id-2\" class=\"sk-toggleable__label sk-toggleable__label-arrow\">DecisionTreeRegressor</label><div class=\"sk-toggleable__content\"><pre>DecisionTreeRegressor(random_state=1)</pre></div></div></div></div></div>"
      ],
      "text/plain": [
       "DecisionTreeRegressor(random_state=1)"
      ]
     },
     "execution_count": 12,
     "metadata": {},
     "output_type": "execute_result"
    }
   ],
   "source": [
    "# Train and evaluate Decision Tree Regressor model\n",
    "mod2 = DecisionTreeRegressor(random_state=1)\n",
    "mod2.fit(X_train, y_train)"
   ]
  },
  {
   "cell_type": "code",
   "execution_count": 13,
   "id": "bea6b8f0",
   "metadata": {},
   "outputs": [],
   "source": [
    "# Predict on training and development sets\n",
    "pred2 = mod2.predict(X_train)\n",
    "model_dict = {'model': \"Decision Tree\"}\n",
    "new_row = pd.DataFrame([{**model_dict, **regressionMetrics(y_train, pred2)}])\n",
    "models_list = pd.concat([models_list, new_row], ignore_index=True)\n",
    "\n",
    "pred2_dev = mod2.predict(X_dev)\n",
    "model_dict_dev = {'model_dev': \"Decision Tree\"}\n",
    "new_row = pd.DataFrame([{**model_dict_dev, **regressionMetrics(y_dev, pred2_dev)}])\n",
    "models_list_dev = pd.concat([models_list_dev, new_row], ignore_index=True)"
   ]
  },
  {
   "cell_type": "code",
   "execution_count": 14,
   "id": "95109738",
   "metadata": {},
   "outputs": [
    {
     "data": {
      "text/plain": [
       "<Axes: xlabel='counts_kisses'>"
      ]
     },
     "execution_count": 14,
     "metadata": {},
     "output_type": "execute_result"
    },
    {
     "data": {
      "image/png": "[encoded data removed]",
      "text/plain": [
       "<Figure size 640x480 with 1 Axes>"
      ]
     },
     "metadata": {},
     "output_type": "display_data"
    }
   ],
   "source": [
    "# Plot predicted vs. actual values for Decision Tree model\n",
    "sb.scatterplot(x=y_train, y=pred2)\n",
    "sb.scatterplot(x=y_dev, y=pred2_dev)"
   ]
  },
  {
   "cell_type": "code",
   "execution_count": 15,
   "id": "494c3a8b",
   "metadata": {},
   "outputs": [
    {
     "data": {
      "text/html": [
       "<style>#sk-container-id-3 {color: black;}#sk-container-id-3 pre{padding: 0;}#sk-container-id-3 div.sk-toggleable {background-color: white;}#sk-container-id-3 label.sk-toggleable__label {cursor: pointer;display: block;width: 100%;margin-bottom: 0;padding: 0.3em;box-sizing: border-box;text-align: center;}#sk-container-id-3 label.sk-toggleable__label-arrow:before {content: \"▸\";float: left;margin-right: 0.25em;color: #696969;}#sk-container-id-3 label.sk-toggleable__label-arrow:hover:before {color: black;}#sk-container-id-3 div.sk-estimator:hover label.sk-toggleable__label-arrow:before {color: black;}#sk-container-id-3 div.sk-toggleable__content {max-height: 0;max-width: 0;overflow: hidden;text-align: left;background-color: #f0f8ff;}#sk-container-id-3 div.sk-toggleable__content pre {margin: 0.2em;color: black;border-radius: 0.25em;background-color: #f0f8ff;}#sk-container-id-3 input.sk-toggleable__control:checked~div.sk-toggleable__content {max-height: 200px;max-width: 100%;overflow: auto;}#sk-container-id-3 input.sk-toggleable__control:checked~label.sk-toggleable__label-arrow:before {content: \"▾\";}#sk-container-id-3 div.sk-estimator input.sk-toggleable__control:checked~label.sk-toggleable__label {background-color: #d4ebff;}#sk-container-id-3 div.sk-label input.sk-toggleable__control:checked~label.sk-toggleable__label {background-color: #d4ebff;}#sk-container-id-3 input.sk-hidden--visually {border: 0;clip: rect(1px 1px 1px 1px);clip: rect(1px, 1px, 1px, 1px);height: 1px;margin: -1px;overflow: hidden;padding: 0;position: absolute;width: 1px;}#sk-container-id-3 div.sk-estimator {font-family: monospace;background-color: #f0f8ff;border: 1px dotted black;border-radius: 0.25em;box-sizing: border-box;margin-bottom: 0.5em;}#sk-container-id-3 div.sk-estimator:hover {background-color: #d4ebff;}#sk-container-id-3 div.sk-parallel-item::after {content: \"\";width: 100%;border-bottom: 1px solid gray;flex-grow: 1;}#sk-container-id-3 div.sk-label:hover label.sk-toggleable__label {background-color: #d4ebff;}#sk-container-id-3 div.sk-serial::before {content: \"\";position: absolute;border-left: 1px solid gray;box-sizing: border-box;top: 0;bottom: 0;left: 50%;z-index: 0;}#sk-container-id-3 div.sk-serial {display: flex;flex-direction: column;align-items: center;background-color: white;padding-right: 0.2em;padding-left: 0.2em;position: relative;}#sk-container-id-3 div.sk-item {position: relative;z-index: 1;}#sk-container-id-3 div.sk-parallel {display: flex;align-items: stretch;justify-content: center;background-color: white;position: relative;}#sk-container-id-3 div.sk-item::before, #sk-container-id-3 div.sk-parallel-item::before {content: \"\";position: absolute;border-left: 1px solid gray;box-sizing: border-box;top: 0;bottom: 0;left: 50%;z-index: -1;}#sk-container-id-3 div.sk-parallel-item {display: flex;flex-direction: column;z-index: 1;position: relative;background-color: white;}#sk-container-id-3 div.sk-parallel-item:first-child::after {align-self: flex-end;width: 50%;}#sk-container-id-3 div.sk-parallel-item:last-child::after {align-self: flex-start;width: 50%;}#sk-container-id-3 div.sk-parallel-item:only-child::after {width: 0;}#sk-container-id-3 div.sk-dashed-wrapped {border: 1px dashed gray;margin: 0 0.4em 0.5em 0.4em;box-sizing: border-box;padding-bottom: 0.4em;background-color: white;}#sk-container-id-3 div.sk-label label {font-family: monospace;font-weight: bold;display: inline-block;line-height: 1.2em;}#sk-container-id-3 div.sk-label-container {text-align: center;}#sk-container-id-3 div.sk-container {/* jupyter's `normalize.less` sets `[hidden] { display: none; }` but bootstrap.min.css set `[hidden] { display: none !important; }` so we also need the `!important` here to be able to override the default hidden behavior on the sphinx rendered scikit-learn.org. See: https://github.com/scikit-learn/scikit-learn/issues/21755 */display: inline-block !important;position: relative;}#sk-container-id-3 div.sk-text-repr-fallback {display: none;}</style><div id=\"sk-container-id-3\" class=\"sk-top-container\"><div class=\"sk-text-repr-fallback\"><pre>RandomForestRegressor(random_state=1)</pre><b>In a Jupyter environment, please rerun this cell to show the HTML representation or trust the notebook. <br />On GitHub, the HTML representation is unable to render, please try loading this page with nbviewer.org.</b></div><div class=\"sk-container\" hidden><div class=\"sk-item\"><div class=\"sk-estimator sk-toggleable\"><input class=\"sk-toggleable__control sk-hidden--visually\" id=\"sk-estimator-id-3\" type=\"checkbox\" checked><label for=\"sk-estimator-id-3\" class=\"sk-toggleable__label sk-toggleable__label-arrow\">RandomForestRegressor</label><div class=\"sk-toggleable__content\"><pre>RandomForestRegressor(random_state=1)</pre></div></div></div></div></div>"
      ],
      "text/plain": [
       "RandomForestRegressor(random_state=1)"
      ]
     },
     "execution_count": 15,
     "metadata": {},
     "output_type": "execute_result"
    }
   ],
   "source": [
    "# Train and evaluate Random Forest Regressor model\n",
    "mod3 = RandomForestRegressor(random_state=1)\n",
    "mod3.fit(X_train, y_train)"
   ]
  },
  {
   "cell_type": "code",
   "execution_count": 16,
   "id": "9ac760e0",
   "metadata": {},
   "outputs": [],
   "source": [
    "# Predict on training and development sets\n",
    "pred3 = mod3.predict(X_train)\n",
    "model_dict = {'model': \"RandomForest\"}\n",
    "new_row = pd.DataFrame([{**model_dict, **regressionMetrics(y_train, pred3)}])\n",
    "models_list = pd.concat([models_list, new_row], ignore_index=True)\n",
    "\n",
    "pred3_dev = mod3.predict(X_dev)\n",
    "model_dict_dev = {'model_dev': \"RandomForest\"}\n",
    "new_row = pd.DataFrame([{**model_dict_dev, **regressionMetrics(y_dev, pred3_dev)}])\n",
    "models_list_dev = pd.concat([models_list_dev, new_row], ignore_index=True)"
   ]
  },
  {
   "cell_type": "code",
   "execution_count": 17,
   "id": "a1db5e04",
   "metadata": {},
   "outputs": [
    {
     "data": {
      "text/plain": [
       "<Axes: xlabel='counts_kisses'>"
      ]
     },
     "execution_count": 17,
     "metadata": {},
     "output_type": "execute_result"
    },
    {
     "data": {
      "image/png": "[encoded data removed]",
      "text/plain": [
       "<Figure size 640x480 with 1 Axes>"
      ]
     },
     "metadata": {},
     "output_type": "display_data"
    }
   ],
   "source": [
    "# Plot predicted vs. actual values for Random Forest model\n",
    "sb.scatterplot(x=y_train, y=pred3)\n",
    "sb.scatterplot(x=y_dev, y=pred3_dev)"
   ]
  },
  {
   "cell_type": "code",
   "execution_count": 18,
   "id": "76708808",
   "metadata": {},
   "outputs": [
    {
     "data": {
      "text/html": [
       "<style>#sk-container-id-4 {color: black;}#sk-container-id-4 pre{padding: 0;}#sk-container-id-4 div.sk-toggleable {background-color: white;}#sk-container-id-4 label.sk-toggleable__label {cursor: pointer;display: block;width: 100%;margin-bottom: 0;padding: 0.3em;box-sizing: border-box;text-align: center;}#sk-container-id-4 label.sk-toggleable__label-arrow:before {content: \"▸\";float: left;margin-right: 0.25em;color: #696969;}#sk-container-id-4 label.sk-toggleable__label-arrow:hover:before {color: black;}#sk-container-id-4 div.sk-estimator:hover label.sk-toggleable__label-arrow:before {color: black;}#sk-container-id-4 div.sk-toggleable__content {max-height: 0;max-width: 0;overflow: hidden;text-align: left;background-color: #f0f8ff;}#sk-container-id-4 div.sk-toggleable__content pre {margin: 0.2em;color: black;border-radius: 0.25em;background-color: #f0f8ff;}#sk-container-id-4 input.sk-toggleable__control:checked~div.sk-toggleable__content {max-height: 200px;max-width: 100%;overflow: auto;}#sk-container-id-4 input.sk-toggleable__control:checked~label.sk-toggleable__label-arrow:before {content: \"▾\";}#sk-container-id-4 div.sk-estimator input.sk-toggleable__control:checked~label.sk-toggleable__label {background-color: #d4ebff;}#sk-container-id-4 div.sk-label input.sk-toggleable__control:checked~label.sk-toggleable__label {background-color: #d4ebff;}#sk-container-id-4 input.sk-hidden--visually {border: 0;clip: rect(1px 1px 1px 1px);clip: rect(1px, 1px, 1px, 1px);height: 1px;margin: -1px;overflow: hidden;padding: 0;position: absolute;width: 1px;}#sk-container-id-4 div.sk-estimator {font-family: monospace;background-color: #f0f8ff;border: 1px dotted black;border-radius: 0.25em;box-sizing: border-box;margin-bottom: 0.5em;}#sk-container-id-4 div.sk-estimator:hover {background-color: #d4ebff;}#sk-container-id-4 div.sk-parallel-item::after {content: \"\";width: 100%;border-bottom: 1px solid gray;flex-grow: 1;}#sk-container-id-4 div.sk-label:hover label.sk-toggleable__label {background-color: #d4ebff;}#sk-container-id-4 div.sk-serial::before {content: \"\";position: absolute;border-left: 1px solid gray;box-sizing: border-box;top: 0;bottom: 0;left: 50%;z-index: 0;}#sk-container-id-4 div.sk-serial {display: flex;flex-direction: column;align-items: center;background-color: white;padding-right: 0.2em;padding-left: 0.2em;position: relative;}#sk-container-id-4 div.sk-item {position: relative;z-index: 1;}#sk-container-id-4 div.sk-parallel {display: flex;align-items: stretch;justify-content: center;background-color: white;position: relative;}#sk-container-id-4 div.sk-item::before, #sk-container-id-4 div.sk-parallel-item::before {content: \"\";position: absolute;border-left: 1px solid gray;box-sizing: border-box;top: 0;bottom: 0;left: 50%;z-index: -1;}#sk-container-id-4 div.sk-parallel-item {display: flex;flex-direction: column;z-index: 1;position: relative;background-color: white;}#sk-container-id-4 div.sk-parallel-item:first-child::after {align-self: flex-end;width: 50%;}#sk-container-id-4 div.sk-parallel-item:last-child::after {align-self: flex-start;width: 50%;}#sk-container-id-4 div.sk-parallel-item:only-child::after {width: 0;}#sk-container-id-4 div.sk-dashed-wrapped {border: 1px dashed gray;margin: 0 0.4em 0.5em 0.4em;box-sizing: border-box;padding-bottom: 0.4em;background-color: white;}#sk-container-id-4 div.sk-label label {font-family: monospace;font-weight: bold;display: inline-block;line-height: 1.2em;}#sk-container-id-4 div.sk-label-container {text-align: center;}#sk-container-id-4 div.sk-container {/* jupyter's `normalize.less` sets `[hidden] { display: none; }` but bootstrap.min.css set `[hidden] { display: none !important; }` so we also need the `!important` here to be able to override the default hidden behavior on the sphinx rendered scikit-learn.org. See: https://github.com/scikit-learn/scikit-learn/issues/21755 */display: inline-block !important;position: relative;}#sk-container-id-4 div.sk-text-repr-fallback {display: none;}</style><div id=\"sk-container-id-4\" class=\"sk-top-container\"><div class=\"sk-text-repr-fallback\"><pre>AdaBoostRegressor(random_state=1)</pre><b>In a Jupyter environment, please rerun this cell to show the HTML representation or trust the notebook. <br />On GitHub, the HTML representation is unable to render, please try loading this page with nbviewer.org.</b></div><div class=\"sk-container\" hidden><div class=\"sk-item\"><div class=\"sk-estimator sk-toggleable\"><input class=\"sk-toggleable__control sk-hidden--visually\" id=\"sk-estimator-id-4\" type=\"checkbox\" checked><label for=\"sk-estimator-id-4\" class=\"sk-toggleable__label sk-toggleable__label-arrow\">AdaBoostRegressor</label><div class=\"sk-toggleable__content\"><pre>AdaBoostRegressor(random_state=1)</pre></div></div></div></div></div>"
      ],
      "text/plain": [
       "AdaBoostRegressor(random_state=1)"
      ]
     },
     "execution_count": 18,
     "metadata": {},
     "output_type": "execute_result"
    }
   ],
   "source": [
    "# Train and evaluate AdaBoost Regressor model\n",
    "mod4 = AdaBoostRegressor(random_state=1)\n",
    "mod4.fit(X_train, y_train)"
   ]
  },
  {
   "cell_type": "code",
   "execution_count": 19,
   "id": "0188098b",
   "metadata": {},
   "outputs": [],
   "source": [
    "# Predict on training and development sets\n",
    "pred4 = mod4.predict(X_train)\n",
    "model_dict = {'model': \"ADABoost\"}\n",
    "new_row = pd.DataFrame([{**model_dict, **regressionMetrics(y_train, pred4)}])\n",
    "models_list = pd.concat([models_list, new_row], ignore_index=True)\n",
    "\n",
    "pred4_dev = mod4.predict(X_dev)\n",
    "model_dict_dev = {'model_dev': \"ADABoost\"}\n",
    "new_row = pd.DataFrame([{**model_dict_dev, **regressionMetrics(y_dev, pred4_dev)}])\n",
    "models_list_dev = pd.concat([models_list_dev, new_row], ignore_index=True)"
   ]
  },
  {
   "cell_type": "code",
   "execution_count": 20,
   "id": "4805c222",
   "metadata": {},
   "outputs": [
    {
     "data": {
      "text/plain": [
       "<Axes: xlabel='counts_kisses'>"
      ]
     },
     "execution_count": 20,
     "metadata": {},
     "output_type": "execute_result"
    },
    {
     "data": {
      "image/png": "[encoded data removed]",
      "text/plain": [
       "<Figure size 640x480 with 1 Axes>"
      ]
     },
     "metadata": {},
     "output_type": "display_data"
    }
   ],
   "source": [
    "# Plot predicted vs. actual values for AdaBoost model\n",
    "sb.scatterplot(x=y_train, y=pred4)\n",
    "sb.scatterplot(x=y_dev, y=pred4_dev)"
   ]
  },
  {
   "cell_type": "code",
   "execution_count": 21,
   "id": "f28e1726",
   "metadata": {},
   "outputs": [
    {
     "data": {
      "text/html": [
       "<style>#sk-container-id-5 {color: black;}#sk-container-id-5 pre{padding: 0;}#sk-container-id-5 div.sk-toggleable {background-color: white;}#sk-container-id-5 label.sk-toggleable__label {cursor: pointer;display: block;width: 100%;margin-bottom: 0;padding: 0.3em;box-sizing: border-box;text-align: center;}#sk-container-id-5 label.sk-toggleable__label-arrow:before {content: \"▸\";float: left;margin-right: 0.25em;color: #696969;}#sk-container-id-5 label.sk-toggleable__label-arrow:hover:before {color: black;}#sk-container-id-5 div.sk-estimator:hover label.sk-toggleable__label-arrow:before {color: black;}#sk-container-id-5 div.sk-toggleable__content {max-height: 0;max-width: 0;overflow: hidden;text-align: left;background-color: #f0f8ff;}#sk-container-id-5 div.sk-toggleable__content pre {margin: 0.2em;color: black;border-radius: 0.25em;background-color: #f0f8ff;}#sk-container-id-5 input.sk-toggleable__control:checked~div.sk-toggleable__content {max-height: 200px;max-width: 100%;overflow: auto;}#sk-container-id-5 input.sk-toggleable__control:checked~label.sk-toggleable__label-arrow:before {content: \"▾\";}#sk-container-id-5 div.sk-estimator input.sk-toggleable__control:checked~label.sk-toggleable__label {background-color: #d4ebff;}#sk-container-id-5 div.sk-label input.sk-toggleable__control:checked~label.sk-toggleable__label {background-color: #d4ebff;}#sk-container-id-5 input.sk-hidden--visually {border: 0;clip: rect(1px 1px 1px 1px);clip: rect(1px, 1px, 1px, 1px);height: 1px;margin: -1px;overflow: hidden;padding: 0;position: absolute;width: 1px;}#sk-container-id-5 div.sk-estimator {font-family: monospace;background-color: #f0f8ff;border: 1px dotted black;border-radius: 0.25em;box-sizing: border-box;margin-bottom: 0.5em;}#sk-container-id-5 div.sk-estimator:hover {background-color: #d4ebff;}#sk-container-id-5 div.sk-parallel-item::after {content: \"\";width: 100%;border-bottom: 1px solid gray;flex-grow: 1;}#sk-container-id-5 div.sk-label:hover label.sk-toggleable__label {background-color: #d4ebff;}#sk-container-id-5 div.sk-serial::before {content: \"\";position: absolute;border-left: 1px solid gray;box-sizing: border-box;top: 0;bottom: 0;left: 50%;z-index: 0;}#sk-container-id-5 div.sk-serial {display: flex;flex-direction: column;align-items: center;background-color: white;padding-right: 0.2em;padding-left: 0.2em;position: relative;}#sk-container-id-5 div.sk-item {position: relative;z-index: 1;}#sk-container-id-5 div.sk-parallel {display: flex;align-items: stretch;justify-content: center;background-color: white;position: relative;}#sk-container-id-5 div.sk-item::before, #sk-container-id-5 div.sk-parallel-item::before {content: \"\";position: absolute;border-left: 1px solid gray;box-sizing: border-box;top: 0;bottom: 0;left: 50%;z-index: -1;}#sk-container-id-5 div.sk-parallel-item {display: flex;flex-direction: column;z-index: 1;position: relative;background-color: white;}#sk-container-id-5 div.sk-parallel-item:first-child::after {align-self: flex-end;width: 50%;}#sk-container-id-5 div.sk-parallel-item:last-child::after {align-self: flex-start;width: 50%;}#sk-container-id-5 div.sk-parallel-item:only-child::after {width: 0;}#sk-container-id-5 div.sk-dashed-wrapped {border: 1px dashed gray;margin: 0 0.4em 0.5em 0.4em;box-sizing: border-box;padding-bottom: 0.4em;background-color: white;}#sk-container-id-5 div.sk-label label {font-family: monospace;font-weight: bold;display: inline-block;line-height: 1.2em;}#sk-container-id-5 div.sk-label-container {text-align: center;}#sk-container-id-5 div.sk-container {/* jupyter's `normalize.less` sets `[hidden] { display: none; }` but bootstrap.min.css set `[hidden] { display: none !important; }` so we also need the `!important` here to be able to override the default hidden behavior on the sphinx rendered scikit-learn.org. See: https://github.com/scikit-learn/scikit-learn/issues/21755 */display: inline-block !important;position: relative;}#sk-container-id-5 div.sk-text-repr-fallback {display: none;}</style><div id=\"sk-container-id-5\" class=\"sk-top-container\"><div class=\"sk-text-repr-fallback\"><pre>GradientBoostingRegressor(random_state=1)</pre><b>In a Jupyter environment, please rerun this cell to show the HTML representation or trust the notebook. <br />On GitHub, the HTML representation is unable to render, please try loading this page with nbviewer.org.</b></div><div class=\"sk-container\" hidden><div class=\"sk-item\"><div class=\"sk-estimator sk-toggleable\"><input class=\"sk-toggleable__control sk-hidden--visually\" id=\"sk-estimator-id-5\" type=\"checkbox\" checked><label for=\"sk-estimator-id-5\" class=\"sk-toggleable__label sk-toggleable__label-arrow\">GradientBoostingRegressor</label><div class=\"sk-toggleable__content\"><pre>GradientBoostingRegressor(random_state=1)</pre></div></div></div></div></div>"
      ],
      "text/plain": [
       "GradientBoostingRegressor(random_state=1)"
      ]
     },
     "execution_count": 21,
     "metadata": {},
     "output_type": "execute_result"
    }
   ],
   "source": [
    "# Train and evaluate Gradient Boosting Regressor model\n",
    "mod5 = GradientBoostingRegressor(random_state=1)\n",
    "mod5.fit(X_train, y_train)"
   ]
  },
  {
   "cell_type": "code",
   "execution_count": 22,
   "id": "0ec85dbd",
   "metadata": {},
   "outputs": [],
   "source": [
    "# Predict on training and development sets\n",
    "pred5 = mod5.predict(X_train)\n",
    "pred5_dev = mod5.predict(X_dev)\n",
    "\n",
    "# Ensure there are no zero or negative values for RMSLE calculation\n",
    "pred5_pos = np.maximum(pred5, 0)  \n",
    "pred5_dev_pos = np.maximum(pred5_dev, 0) "
   ]
  },
  {
   "cell_type": "code",
   "execution_count": 23,
   "id": "3f991421",
   "metadata": {},
   "outputs": [],
   "source": [
    "# Store evaluation metrics for Gradient Boosting model\n",
    "model_dict = {'model': \"GBM\"}\n",
    "new_row = pd.DataFrame([{**model_dict, **regressionMetrics(y_train, pred5_pos)}])\n",
    "models_list = pd.concat([models_list, new_row], ignore_index=True)\n",
    "\n",
    "model_dict_dev = {'model_dev': \"GBM\"}\n",
    "new_row = pd.DataFrame([{**model_dict_dev, **regressionMetrics(y_dev, pred5_dev_pos)}])\n",
    "models_list_dev = pd.concat([models_list_dev, new_row], ignore_index=True)"
   ]
  },
  {
   "cell_type": "code",
   "execution_count": 24,
   "id": "02838803",
   "metadata": {},
   "outputs": [
    {
     "data": {
      "text/plain": [
       "<Axes: xlabel='counts_kisses'>"
      ]
     },
     "execution_count": 24,
     "metadata": {},
     "output_type": "execute_result"
    },
    {
     "data": {
      "image/png": "[encoded data removed]",
      "text/plain": [
       "<Figure size 640x480 with 1 Axes>"
      ]
     },
     "metadata": {},
     "output_type": "display_data"
    }
   ],
   "source": [
    "# Plot predicted vs. actual values for Gradient Boosting model\n",
    "sb.scatterplot(x=y_train, y=pred5_pos)\n",
    "sb.scatterplot(x=y_dev, y=pred5_dev_pos)"
   ]
  },
  {
   "cell_type": "code",
   "execution_count": 25,
   "id": "8ad07553",
   "metadata": {},
   "outputs": [
    {
     "data": {
      "text/html": [
       "<style>#sk-container-id-6 {color: black;}#sk-container-id-6 pre{padding: 0;}#sk-container-id-6 div.sk-toggleable {background-color: white;}#sk-container-id-6 label.sk-toggleable__label {cursor: pointer;display: block;width: 100%;margin-bottom: 0;padding: 0.3em;box-sizing: border-box;text-align: center;}#sk-container-id-6 label.sk-toggleable__label-arrow:before {content: \"▸\";float: left;margin-right: 0.25em;color: #696969;}#sk-container-id-6 label.sk-toggleable__label-arrow:hover:before {color: black;}#sk-container-id-6 div.sk-estimator:hover label.sk-toggleable__label-arrow:before {color: black;}#sk-container-id-6 div.sk-toggleable__content {max-height: 0;max-width: 0;overflow: hidden;text-align: left;background-color: #f0f8ff;}#sk-container-id-6 div.sk-toggleable__content pre {margin: 0.2em;color: black;border-radius: 0.25em;background-color: #f0f8ff;}#sk-container-id-6 input.sk-toggleable__control:checked~div.sk-toggleable__content {max-height: 200px;max-width: 100%;overflow: auto;}#sk-container-id-6 input.sk-toggleable__control:checked~label.sk-toggleable__label-arrow:before {content: \"▾\";}#sk-container-id-6 div.sk-estimator input.sk-toggleable__control:checked~label.sk-toggleable__label {background-color: #d4ebff;}#sk-container-id-6 div.sk-label input.sk-toggleable__control:checked~label.sk-toggleable__label {background-color: #d4ebff;}#sk-container-id-6 input.sk-hidden--visually {border: 0;clip: rect(1px 1px 1px 1px);clip: rect(1px, 1px, 1px, 1px);height: 1px;margin: -1px;overflow: hidden;padding: 0;position: absolute;width: 1px;}#sk-container-id-6 div.sk-estimator {font-family: monospace;background-color: #f0f8ff;border: 1px dotted black;border-radius: 0.25em;box-sizing: border-box;margin-bottom: 0.5em;}#sk-container-id-6 div.sk-estimator:hover {background-color: #d4ebff;}#sk-container-id-6 div.sk-parallel-item::after {content: \"\";width: 100%;border-bottom: 1px solid gray;flex-grow: 1;}#sk-container-id-6 div.sk-label:hover label.sk-toggleable__label {background-color: #d4ebff;}#sk-container-id-6 div.sk-serial::before {content: \"\";position: absolute;border-left: 1px solid gray;box-sizing: border-box;top: 0;bottom: 0;left: 50%;z-index: 0;}#sk-container-id-6 div.sk-serial {display: flex;flex-direction: column;align-items: center;background-color: white;padding-right: 0.2em;padding-left: 0.2em;position: relative;}#sk-container-id-6 div.sk-item {position: relative;z-index: 1;}#sk-container-id-6 div.sk-parallel {display: flex;align-items: stretch;justify-content: center;background-color: white;position: relative;}#sk-container-id-6 div.sk-item::before, #sk-container-id-6 div.sk-parallel-item::before {content: \"\";position: absolute;border-left: 1px solid gray;box-sizing: border-box;top: 0;bottom: 0;left: 50%;z-index: -1;}#sk-container-id-6 div.sk-parallel-item {display: flex;flex-direction: column;z-index: 1;position: relative;background-color: white;}#sk-container-id-6 div.sk-parallel-item:first-child::after {align-self: flex-end;width: 50%;}#sk-container-id-6 div.sk-parallel-item:last-child::after {align-self: flex-start;width: 50%;}#sk-container-id-6 div.sk-parallel-item:only-child::after {width: 0;}#sk-container-id-6 div.sk-dashed-wrapped {border: 1px dashed gray;margin: 0 0.4em 0.5em 0.4em;box-sizing: border-box;padding-bottom: 0.4em;background-color: white;}#sk-container-id-6 div.sk-label label {font-family: monospace;font-weight: bold;display: inline-block;line-height: 1.2em;}#sk-container-id-6 div.sk-label-container {text-align: center;}#sk-container-id-6 div.sk-container {/* jupyter's `normalize.less` sets `[hidden] { display: none; }` but bootstrap.min.css set `[hidden] { display: none !important; }` so we also need the `!important` here to be able to override the default hidden behavior on the sphinx rendered scikit-learn.org. See: https://github.com/scikit-learn/scikit-learn/issues/21755 */display: inline-block !important;position: relative;}#sk-container-id-6 div.sk-text-repr-fallback {display: none;}</style><div id=\"sk-container-id-6\" class=\"sk-top-container\"><div class=\"sk-text-repr-fallback\"><pre>SVR()</pre><b>In a Jupyter environment, please rerun this cell to show the HTML representation or trust the notebook. <br />On GitHub, the HTML representation is unable to render, please try loading this page with nbviewer.org.</b></div><div class=\"sk-container\" hidden><div class=\"sk-item\"><div class=\"sk-estimator sk-toggleable\"><input class=\"sk-toggleable__control sk-hidden--visually\" id=\"sk-estimator-id-6\" type=\"checkbox\" checked><label for=\"sk-estimator-id-6\" class=\"sk-toggleable__label sk-toggleable__label-arrow\">SVR</label><div class=\"sk-toggleable__content\"><pre>SVR()</pre></div></div></div></div></div>"
      ],
      "text/plain": [
       "SVR()"
      ]
     },
     "execution_count": 25,
     "metadata": {},
     "output_type": "execute_result"
    }
   ],
   "source": [
    "# Train and evaluate Support Vector Regressor (SVM)\n",
    "mod6 = SVR()\n",
    "mod6.fit(X_train, y_train)"
   ]
  },
  {
   "cell_type": "code",
   "execution_count": 26,
   "id": "f333d040",
   "metadata": {},
   "outputs": [],
   "source": [
    "# Predict on training and development sets\n",
    "pred6 = mod6.predict(X_train)\n",
    "model_dict = {'model': \"SVM\"}\n",
    "new_row = pd.DataFrame([{**model_dict, **regressionMetrics(y_train, pred6)}])\n",
    "models_list = pd.concat([models_list, new_row], ignore_index=True)\n",
    "\n",
    "pred6_dev = mod6.predict(X_dev)\n",
    "model_dict_dev = {'model_dev': \"SVM\"}\n",
    "new_row = pd.DataFrame([{**model_dict_dev, **regressionMetrics(y_dev, pred6_dev)}])\n",
    "models_list_dev = pd.concat([models_list_dev, new_row], ignore_index=True)"
   ]
  },
  {
   "cell_type": "code",
   "execution_count": 27,
   "id": "e7fb154a",
   "metadata": {},
   "outputs": [
    {
     "data": {
      "text/plain": [
       "<Axes: xlabel='counts_kisses'>"
      ]
     },
     "execution_count": 27,
     "metadata": {},
     "output_type": "execute_result"
    },
    {
     "data": {
      "image/png": "[encoded data removed]",
      "text/plain": [
       "<Figure size 640x480 with 1 Axes>"
      ]
     },
     "metadata": {},
     "output_type": "display_data"
    }
   ],
   "source": [
    "# Plot predicted vs. actual values for SVM model\n",
    "sb.scatterplot(x=y_train, y=pred6)\n",
    "sb.scatterplot(x=y_dev, y=pred6_dev)"
   ]
  },
  {
   "cell_type": "code",
   "execution_count": 28,
   "id": "d3e6807b",
   "metadata": {},
   "outputs": [
    {
     "data": {
      "text/html": [
       "<style>#sk-container-id-7 {color: black;}#sk-container-id-7 pre{padding: 0;}#sk-container-id-7 div.sk-toggleable {background-color: white;}#sk-container-id-7 label.sk-toggleable__label {cursor: pointer;display: block;width: 100%;margin-bottom: 0;padding: 0.3em;box-sizing: border-box;text-align: center;}#sk-container-id-7 label.sk-toggleable__label-arrow:before {content: \"▸\";float: left;margin-right: 0.25em;color: #696969;}#sk-container-id-7 label.sk-toggleable__label-arrow:hover:before {color: black;}#sk-container-id-7 div.sk-estimator:hover label.sk-toggleable__label-arrow:before {color: black;}#sk-container-id-7 div.sk-toggleable__content {max-height: 0;max-width: 0;overflow: hidden;text-align: left;background-color: #f0f8ff;}#sk-container-id-7 div.sk-toggleable__content pre {margin: 0.2em;color: black;border-radius: 0.25em;background-color: #f0f8ff;}#sk-container-id-7 input.sk-toggleable__control:checked~div.sk-toggleable__content {max-height: 200px;max-width: 100%;overflow: auto;}#sk-container-id-7 input.sk-toggleable__control:checked~label.sk-toggleable__label-arrow:before {content: \"▾\";}#sk-container-id-7 div.sk-estimator input.sk-toggleable__control:checked~label.sk-toggleable__label {background-color: #d4ebff;}#sk-container-id-7 div.sk-label input.sk-toggleable__control:checked~label.sk-toggleable__label {background-color: #d4ebff;}#sk-container-id-7 input.sk-hidden--visually {border: 0;clip: rect(1px 1px 1px 1px);clip: rect(1px, 1px, 1px, 1px);height: 1px;margin: -1px;overflow: hidden;padding: 0;position: absolute;width: 1px;}#sk-container-id-7 div.sk-estimator {font-family: monospace;background-color: #f0f8ff;border: 1px dotted black;border-radius: 0.25em;box-sizing: border-box;margin-bottom: 0.5em;}#sk-container-id-7 div.sk-estimator:hover {background-color: #d4ebff;}#sk-container-id-7 div.sk-parallel-item::after {content: \"\";width: 100%;border-bottom: 1px solid gray;flex-grow: 1;}#sk-container-id-7 div.sk-label:hover label.sk-toggleable__label {background-color: #d4ebff;}#sk-container-id-7 div.sk-serial::before {content: \"\";position: absolute;border-left: 1px solid gray;box-sizing: border-box;top: 0;bottom: 0;left: 50%;z-index: 0;}#sk-container-id-7 div.sk-serial {display: flex;flex-direction: column;align-items: center;background-color: white;padding-right: 0.2em;padding-left: 0.2em;position: relative;}#sk-container-id-7 div.sk-item {position: relative;z-index: 1;}#sk-container-id-7 div.sk-parallel {display: flex;align-items: stretch;justify-content: center;background-color: white;position: relative;}#sk-container-id-7 div.sk-item::before, #sk-container-id-7 div.sk-parallel-item::before {content: \"\";position: absolute;border-left: 1px solid gray;box-sizing: border-box;top: 0;bottom: 0;left: 50%;z-index: -1;}#sk-container-id-7 div.sk-parallel-item {display: flex;flex-direction: column;z-index: 1;position: relative;background-color: white;}#sk-container-id-7 div.sk-parallel-item:first-child::after {align-self: flex-end;width: 50%;}#sk-container-id-7 div.sk-parallel-item:last-child::after {align-self: flex-start;width: 50%;}#sk-container-id-7 div.sk-parallel-item:only-child::after {width: 0;}#sk-container-id-7 div.sk-dashed-wrapped {border: 1px dashed gray;margin: 0 0.4em 0.5em 0.4em;box-sizing: border-box;padding-bottom: 0.4em;background-color: white;}#sk-container-id-7 div.sk-label label {font-family: monospace;font-weight: bold;display: inline-block;line-height: 1.2em;}#sk-container-id-7 div.sk-label-container {text-align: center;}#sk-container-id-7 div.sk-container {/* jupyter's `normalize.less` sets `[hidden] { display: none; }` but bootstrap.min.css set `[hidden] { display: none !important; }` so we also need the `!important` here to be able to override the default hidden behavior on the sphinx rendered scikit-learn.org. See: https://github.com/scikit-learn/scikit-learn/issues/21755 */display: inline-block !important;position: relative;}#sk-container-id-7 div.sk-text-repr-fallback {display: none;}</style><div id=\"sk-container-id-7\" class=\"sk-top-container\"><div class=\"sk-text-repr-fallback\"><pre>XGBRegressor(base_score=0.5, booster=&#x27;gbtree&#x27;, callbacks=None,\n",
       "             colsample_bylevel=1, colsample_bynode=1, colsample_bytree=1,\n",
       "             early_stopping_rounds=None, enable_categorical=False,\n",
       "             eval_metric=None, gamma=0, gpu_id=-1, grow_policy=&#x27;depthwise&#x27;,\n",
       "             importance_type=None, interaction_constraints=&#x27;&#x27;,\n",
       "             learning_rate=0.300000012, max_bin=256, max_cat_to_onehot=4,\n",
       "             max_delta_step=0, max_depth=6, max_leaves=0, min_child_weight=1,\n",
       "             missing=nan, monotone_constraints=&#x27;()&#x27;, n_estimators=100, n_jobs=0,\n",
       "             num_parallel_tree=1, predictor=&#x27;auto&#x27;, random_state=0, reg_alpha=0,\n",
       "             reg_lambda=1, ...)</pre><b>In a Jupyter environment, please rerun this cell to show the HTML representation or trust the notebook. <br />On GitHub, the HTML representation is unable to render, please try loading this page with nbviewer.org.</b></div><div class=\"sk-container\" hidden><div class=\"sk-item\"><div class=\"sk-estimator sk-toggleable\"><input class=\"sk-toggleable__control sk-hidden--visually\" id=\"sk-estimator-id-7\" type=\"checkbox\" checked><label for=\"sk-estimator-id-7\" class=\"sk-toggleable__label sk-toggleable__label-arrow\">XGBRegressor</label><div class=\"sk-toggleable__content\"><pre>XGBRegressor(base_score=0.5, booster=&#x27;gbtree&#x27;, callbacks=None,\n",
       "             colsample_bylevel=1, colsample_bynode=1, colsample_bytree=1,\n",
       "             early_stopping_rounds=None, enable_categorical=False,\n",
       "             eval_metric=None, gamma=0, gpu_id=-1, grow_policy=&#x27;depthwise&#x27;,\n",
       "             importance_type=None, interaction_constraints=&#x27;&#x27;,\n",
       "             learning_rate=0.300000012, max_bin=256, max_cat_to_onehot=4,\n",
       "             max_delta_step=0, max_depth=6, max_leaves=0, min_child_weight=1,\n",
       "             missing=nan, monotone_constraints=&#x27;()&#x27;, n_estimators=100, n_jobs=0,\n",
       "             num_parallel_tree=1, predictor=&#x27;auto&#x27;, random_state=0, reg_alpha=0,\n",
       "             reg_lambda=1, ...)</pre></div></div></div></div></div>"
      ],
      "text/plain": [
       "XGBRegressor(base_score=0.5, booster='gbtree', callbacks=None,\n",
       "             colsample_bylevel=1, colsample_bynode=1, colsample_bytree=1,\n",
       "             early_stopping_rounds=None, enable_categorical=False,\n",
       "             eval_metric=None, gamma=0, gpu_id=-1, grow_policy='depthwise',\n",
       "             importance_type=None, interaction_constraints='',\n",
       "             learning_rate=0.300000012, max_bin=256, max_cat_to_onehot=4,\n",
       "             max_delta_step=0, max_depth=6, max_leaves=0, min_child_weight=1,\n",
       "             missing=nan, monotone_constraints='()', n_estimators=100, n_jobs=0,\n",
       "             num_parallel_tree=1, predictor='auto', random_state=0, reg_alpha=0,\n",
       "             reg_lambda=1, ...)"
      ]
     },
     "execution_count": 28,
     "metadata": {},
     "output_type": "execute_result"
    }
   ],
   "source": [
    "# Train and evaluate XGBoost Regressor model\n",
    "mod7 = xgb.XGBRegressor()\n",
    "mod7.fit(X_train, y_train)"
   ]
  },
  {
   "cell_type": "code",
   "execution_count": 29,
   "id": "cfe599c8",
   "metadata": {},
   "outputs": [],
   "source": [
    "# Predict on training and development sets\n",
    "pred7 = mod7.predict(X_train)\n",
    "pred7_dev = mod7.predict(X_dev)\n",
    "\n",
    "# Ensure there are no zero or negative values for RMSLE calculation\n",
    "pred7_pos = np.maximum(pred7, 0)  \n",
    "pred7_dev_pos = np.maximum(pred7_dev, 0)  "
   ]
  },
  {
   "cell_type": "code",
   "execution_count": 30,
   "id": "59d37dec",
   "metadata": {},
   "outputs": [],
   "source": [
    "# Store evaluation metrics for XGBoost model\n",
    "model_dict = {'model': \"XGBOOST\"}\n",
    "new_row = pd.DataFrame([{**model_dict, **regressionMetrics(y_train, pred7_pos)}])\n",
    "models_list = pd.concat([models_list, new_row], ignore_index=True)\n",
    "\n",
    "model_dict_dev = {'model_dev': \"XGBOOST\"}\n",
    "new_row = pd.DataFrame([{**model_dict_dev, **regressionMetrics(y_dev, pred7_dev_pos)}])\n",
    "models_list_dev = pd.concat([models_list_dev, new_row], ignore_index=True)"
   ]
  },
  {
   "cell_type": "code",
   "execution_count": 31,
   "id": "3d5caa35",
   "metadata": {},
   "outputs": [
    {
     "data": {
      "text/plain": [
       "<Axes: xlabel='counts_kisses'>"
      ]
     },
     "execution_count": 31,
     "metadata": {},
     "output_type": "execute_result"
    },
    {
     "data": {
      "image/png": "[encoded data removed]",
      "text/plain": [
       "<Figure size 640x480 with 1 Axes>"
      ]
     },
     "metadata": {},
     "output_type": "display_data"
    }
   ],
   "source": [
    "# Plot predicted vs. actual values for XGBoost model\n",
    "sb.scatterplot(x=y_train, y=pred7_pos)\n",
    "sb.scatterplot(x=y_dev, y=pred7_dev_pos)"
   ]
  },
  {
   "cell_type": "code",
   "execution_count": 32,
   "id": "c9070165",
   "metadata": {},
   "outputs": [],
   "source": [
    "# Save the evaluation results to a CSV file\n",
    "models_list.to_csv(r'C:\\Users\\matar.aviv\\Desktop\\python\\Data Science Bar Ilan\\ML Project - Dating App\\metrics_train.csv')\n",
    "models_list_dev.to_csv(r'C:\\Users\\matar.aviv\\Desktop\\python\\Data Science Bar Ilan\\ML Project - Dating App\\metrics_dev.csv')\n"
   ]
  },
  {
   "cell_type": "code",
   "execution_count": 33,
   "id": "a96948c7",
   "metadata": {},
   "outputs": [
    {
     "data": {
      "text/html": [
       "<div>\n",
       "<style scoped>\n",
       "    .dataframe tbody tr th:only-of-type {\n",
       "        vertical-align: middle;\n",
       "    }\n",
       "\n",
       "    .dataframe tbody tr th {\n",
       "        vertical-align: top;\n",
       "    }\n",
       "\n",
       "    .dataframe thead th {\n",
       "        text-align: right;\n",
       "    }\n",
       "</style>\n",
       "<table border=\"1\" class=\"dataframe\">\n",
       "  <thead>\n",
       "    <tr style=\"text-align: right;\">\n",
       "      <th></th>\n",
       "      <th>model</th>\n",
       "      <th>MSE</th>\n",
       "      <th>RMSE</th>\n",
       "      <th>MAE</th>\n",
       "      <th>RMSLE</th>\n",
       "    </tr>\n",
       "  </thead>\n",
       "  <tbody>\n",
       "    <tr>\n",
       "      <th>1</th>\n",
       "      <td>Decision Tree</td>\n",
       "      <td>0.000000</td>\n",
       "      <td>0.000000</td>\n",
       "      <td>0.000000</td>\n",
       "      <td>0.000000</td>\n",
       "    </tr>\n",
       "    <tr>\n",
       "      <th>6</th>\n",
       "      <td>XGBOOST</td>\n",
       "      <td>294.770142</td>\n",
       "      <td>17.168871</td>\n",
       "      <td>10.717069</td>\n",
       "      <td>0.510222</td>\n",
       "    </tr>\n",
       "    <tr>\n",
       "      <th>2</th>\n",
       "      <td>RandomForest</td>\n",
       "      <td>4901.465203</td>\n",
       "      <td>70.010465</td>\n",
       "      <td>21.814075</td>\n",
       "      <td>0.345265</td>\n",
       "    </tr>\n",
       "    <tr>\n",
       "      <th>4</th>\n",
       "      <td>GBM</td>\n",
       "      <td>6673.562572</td>\n",
       "      <td>81.691876</td>\n",
       "      <td>42.332449</td>\n",
       "      <td>0.848068</td>\n",
       "    </tr>\n",
       "    <tr>\n",
       "      <th>0</th>\n",
       "      <td>Linear Regression</td>\n",
       "      <td>25806.005455</td>\n",
       "      <td>160.642477</td>\n",
       "      <td>64.704356</td>\n",
       "      <td>1.350842</td>\n",
       "    </tr>\n",
       "    <tr>\n",
       "      <th>5</th>\n",
       "      <td>SVM</td>\n",
       "      <td>161299.487775</td>\n",
       "      <td>401.621075</td>\n",
       "      <td>139.424408</td>\n",
       "      <td>1.796727</td>\n",
       "    </tr>\n",
       "    <tr>\n",
       "      <th>3</th>\n",
       "      <td>ADABoost</td>\n",
       "      <td>32009.299557</td>\n",
       "      <td>178.911429</td>\n",
       "      <td>154.288314</td>\n",
       "      <td>2.278057</td>\n",
       "    </tr>\n",
       "  </tbody>\n",
       "</table>\n",
       "</div>"
      ],
      "text/plain": [
       "               model            MSE        RMSE         MAE     RMSLE\n",
       "1      Decision Tree       0.000000    0.000000    0.000000  0.000000\n",
       "6            XGBOOST     294.770142   17.168871   10.717069  0.510222\n",
       "2       RandomForest    4901.465203   70.010465   21.814075  0.345265\n",
       "4                GBM    6673.562572   81.691876   42.332449  0.848068\n",
       "0  Linear Regression   25806.005455  160.642477   64.704356  1.350842\n",
       "5                SVM  161299.487775  401.621075  139.424408  1.796727\n",
       "3           ADABoost   32009.299557  178.911429  154.288314  2.278057"
      ]
     },
     "execution_count": 33,
     "metadata": {},
     "output_type": "execute_result"
    }
   ],
   "source": [
    "models_list.sort_values('MAE')"
   ]
  },
  {
   "cell_type": "code",
   "execution_count": 34,
   "id": "33545a78",
   "metadata": {},
   "outputs": [
    {
     "data": {
      "text/html": [
       "<div>\n",
       "<style scoped>\n",
       "    .dataframe tbody tr th:only-of-type {\n",
       "        vertical-align: middle;\n",
       "    }\n",
       "\n",
       "    .dataframe tbody tr th {\n",
       "        vertical-align: top;\n",
       "    }\n",
       "\n",
       "    .dataframe thead th {\n",
       "        text-align: right;\n",
       "    }\n",
       "</style>\n",
       "<table border=\"1\" class=\"dataframe\">\n",
       "  <thead>\n",
       "    <tr style=\"text-align: right;\">\n",
       "      <th></th>\n",
       "      <th>model_dev</th>\n",
       "      <th>MSE</th>\n",
       "      <th>RMSE</th>\n",
       "      <th>MAE</th>\n",
       "      <th>RMSLE</th>\n",
       "    </tr>\n",
       "  </thead>\n",
       "  <tbody>\n",
       "    <tr>\n",
       "      <th>2</th>\n",
       "      <td>RandomForest</td>\n",
       "      <td>54174.012680</td>\n",
       "      <td>232.753115</td>\n",
       "      <td>72.380050</td>\n",
       "      <td>0.602751</td>\n",
       "    </tr>\n",
       "    <tr>\n",
       "      <th>4</th>\n",
       "      <td>GBM</td>\n",
       "      <td>56955.436840</td>\n",
       "      <td>238.653382</td>\n",
       "      <td>74.290338</td>\n",
       "      <td>0.856227</td>\n",
       "    </tr>\n",
       "    <tr>\n",
       "      <th>6</th>\n",
       "      <td>XGBOOST</td>\n",
       "      <td>58872.564723</td>\n",
       "      <td>242.636693</td>\n",
       "      <td>76.401034</td>\n",
       "      <td>0.775028</td>\n",
       "    </tr>\n",
       "    <tr>\n",
       "      <th>0</th>\n",
       "      <td>Linear Regression</td>\n",
       "      <td>50416.240850</td>\n",
       "      <td>224.535612</td>\n",
       "      <td>77.018828</td>\n",
       "      <td>1.349811</td>\n",
       "    </tr>\n",
       "    <tr>\n",
       "      <th>1</th>\n",
       "      <td>Decision Tree</td>\n",
       "      <td>68230.594010</td>\n",
       "      <td>261.209866</td>\n",
       "      <td>86.028286</td>\n",
       "      <td>0.818971</td>\n",
       "    </tr>\n",
       "    <tr>\n",
       "      <th>5</th>\n",
       "      <td>SVM</td>\n",
       "      <td>158872.280582</td>\n",
       "      <td>398.587858</td>\n",
       "      <td>155.004150</td>\n",
       "      <td>1.806833</td>\n",
       "    </tr>\n",
       "    <tr>\n",
       "      <th>3</th>\n",
       "      <td>ADABoost</td>\n",
       "      <td>71672.009402</td>\n",
       "      <td>267.716285</td>\n",
       "      <td>175.851780</td>\n",
       "      <td>2.245301</td>\n",
       "    </tr>\n",
       "  </tbody>\n",
       "</table>\n",
       "</div>"
      ],
      "text/plain": [
       "           model_dev            MSE        RMSE         MAE     RMSLE\n",
       "2       RandomForest   54174.012680  232.753115   72.380050  0.602751\n",
       "4                GBM   56955.436840  238.653382   74.290338  0.856227\n",
       "6            XGBOOST   58872.564723  242.636693   76.401034  0.775028\n",
       "0  Linear Regression   50416.240850  224.535612   77.018828  1.349811\n",
       "1      Decision Tree   68230.594010  261.209866   86.028286  0.818971\n",
       "5                SVM  158872.280582  398.587858  155.004150  1.806833\n",
       "3           ADABoost   71672.009402  267.716285  175.851780  2.245301"
      ]
     },
     "execution_count": 34,
     "metadata": {},
     "output_type": "execute_result"
    }
   ],
   "source": [
    "models_list_dev.sort_values('MAE')"
   ]
  },
  {
   "cell_type": "code",
   "execution_count": 35,
   "id": "a84db0ae",
   "metadata": {},
   "outputs": [
    {
     "data": {
      "text/html": [
       "<div>\n",
       "<style scoped>\n",
       "    .dataframe tbody tr th:only-of-type {\n",
       "        vertical-align: middle;\n",
       "    }\n",
       "\n",
       "    .dataframe tbody tr th {\n",
       "        vertical-align: top;\n",
       "    }\n",
       "\n",
       "    .dataframe thead th {\n",
       "        text-align: right;\n",
       "    }\n",
       "</style>\n",
       "<table border=\"1\" class=\"dataframe\">\n",
       "  <thead>\n",
       "    <tr style=\"text-align: right;\">\n",
       "      <th></th>\n",
       "      <th>model_dev</th>\n",
       "      <th>MSE</th>\n",
       "      <th>RMSE</th>\n",
       "      <th>MAE</th>\n",
       "      <th>RMSLE</th>\n",
       "    </tr>\n",
       "  </thead>\n",
       "  <tbody>\n",
       "    <tr>\n",
       "      <th>0</th>\n",
       "      <td>Linear Regression</td>\n",
       "      <td>50416.240850</td>\n",
       "      <td>224.535612</td>\n",
       "      <td>77.018828</td>\n",
       "      <td>1.349811</td>\n",
       "    </tr>\n",
       "    <tr>\n",
       "      <th>1</th>\n",
       "      <td>Decision Tree</td>\n",
       "      <td>68230.594010</td>\n",
       "      <td>261.209866</td>\n",
       "      <td>86.028286</td>\n",
       "      <td>0.818971</td>\n",
       "    </tr>\n",
       "    <tr>\n",
       "      <th>2</th>\n",
       "      <td>RandomForest</td>\n",
       "      <td>54174.012680</td>\n",
       "      <td>232.753115</td>\n",
       "      <td>72.380050</td>\n",
       "      <td>0.602751</td>\n",
       "    </tr>\n",
       "    <tr>\n",
       "      <th>3</th>\n",
       "      <td>ADABoost</td>\n",
       "      <td>71672.009402</td>\n",
       "      <td>267.716285</td>\n",
       "      <td>175.851780</td>\n",
       "      <td>2.245301</td>\n",
       "    </tr>\n",
       "    <tr>\n",
       "      <th>4</th>\n",
       "      <td>GBM</td>\n",
       "      <td>56955.436840</td>\n",
       "      <td>238.653382</td>\n",
       "      <td>74.290338</td>\n",
       "      <td>0.856227</td>\n",
       "    </tr>\n",
       "    <tr>\n",
       "      <th>5</th>\n",
       "      <td>SVM</td>\n",
       "      <td>158872.280582</td>\n",
       "      <td>398.587858</td>\n",
       "      <td>155.004150</td>\n",
       "      <td>1.806833</td>\n",
       "    </tr>\n",
       "    <tr>\n",
       "      <th>6</th>\n",
       "      <td>XGBOOST</td>\n",
       "      <td>58872.564723</td>\n",
       "      <td>242.636693</td>\n",
       "      <td>76.401034</td>\n",
       "      <td>0.775028</td>\n",
       "    </tr>\n",
       "  </tbody>\n",
       "</table>\n",
       "</div>"
      ],
      "text/plain": [
       "           model_dev            MSE        RMSE         MAE     RMSLE\n",
       "0  Linear Regression   50416.240850  224.535612   77.018828  1.349811\n",
       "1      Decision Tree   68230.594010  261.209866   86.028286  0.818971\n",
       "2       RandomForest   54174.012680  232.753115   72.380050  0.602751\n",
       "3           ADABoost   71672.009402  267.716285  175.851780  2.245301\n",
       "4                GBM   56955.436840  238.653382   74.290338  0.856227\n",
       "5                SVM  158872.280582  398.587858  155.004150  1.806833\n",
       "6            XGBOOST   58872.564723  242.636693   76.401034  0.775028"
      ]
     },
     "execution_count": 35,
     "metadata": {},
     "output_type": "execute_result"
    }
   ],
   "source": [
    "models_list_dev"
   ]
  },
  {
   "cell_type": "code",
   "execution_count": null,
   "id": "3145d6fd",
   "metadata": {},
   "outputs": [],
   "source": []
  },
  {
   "cell_type": "code",
   "execution_count": null,
   "id": "0643d09b",
   "metadata": {},
   "outputs": [],
   "source": []
  },
  {
   "cell_type": "code",
   "execution_count": 36,
   "id": "136a492d",
   "metadata": {},
   "outputs": [],
   "source": [
    "# Define the parameter grid to search for hyperparameter tuning\n",
    "param_grid = {\n",
    "    'n_estimators': [10, 50, 100, 200],  # Number of trees in the ensemble\n",
    "    'max_features': ['auto', 'sqrt', 'log2'],  # Number of features to consider at each split\n",
    "    'max_depth': [None, 10, 20, 30, 40, 50],  # Maximum depth of each tree\n",
    "    'min_samples_split': [2, 5, 10],  # Minimum samples required to split a node\n",
    "    'min_samples_leaf': [1, 2, 4],  # Minimum samples required at each leaf node\n",
    "}"
   ]
  },
  {
   "cell_type": "code",
   "execution_count": 37,
   "id": "bef575e2",
   "metadata": {},
   "outputs": [],
   "source": [
    "# Create a base Random Forest model\n",
    "\n",
    "# Fine-tuning Random Forest model using GridSearchCV\n",
    "grid_search_rf = GridSearchCV(\n",
    "    estimator=mod3,  # Random Forest regressor model\n",
    "    param_grid=param_grid,  # Hyperparameter grid to search\n",
    "    cv=3,  # 3-fold cross-validation\n",
    "    n_jobs=-1,  # Use all available CPU cores for parallel processing\n",
    "    verbose=2,  # Detailed output for each iteration\n",
    "    scoring='neg_mean_squared_error'  # Evaluation metric: negative mean squared error\n",
    ")"
   ]
  },
  {
   "cell_type": "code",
   "execution_count": 38,
   "id": "d4ee3b8c",
   "metadata": {},
   "outputs": [
    {
     "name": "stdout",
     "output_type": "stream",
     "text": [
      "Fitting 3 folds for each of 648 candidates, totalling 1944 fits\n"
     ]
    },
    {
     "name": "stderr",
     "output_type": "stream",
     "text": [
      "C:\\Users\\matar.aviv\\AppData\\Local\\anaconda3\\Lib\\site-packages\\sklearn\\model_selection\\_validation.py:425: FitFailedWarning: \n",
      "648 fits failed out of a total of 1944.\n",
      "The score on these train-test partitions for these parameters will be set to nan.\n",
      "If these failures are not expected, you can try to debug them by setting error_score='raise'.\n",
      "\n",
      "Below are more details about the failures:\n",
      "--------------------------------------------------------------------------------\n",
      "423 fits failed with the following error:\n",
      "Traceback (most recent call last):\n",
      "  File \"C:\\Users\\matar.aviv\\AppData\\Local\\anaconda3\\Lib\\site-packages\\sklearn\\model_selection\\_validation.py\", line 732, in _fit_and_score\n",
      "    estimator.fit(X_train, y_train, **fit_params)\n",
      "  File \"C:\\Users\\matar.aviv\\AppData\\Local\\anaconda3\\Lib\\site-packages\\sklearn\\base.py\", line 1144, in wrapper\n",
      "    estimator._validate_params()\n",
      "  File \"C:\\Users\\matar.aviv\\AppData\\Local\\anaconda3\\Lib\\site-packages\\sklearn\\base.py\", line 637, in _validate_params\n",
      "    validate_parameter_constraints(\n",
      "  File \"C:\\Users\\matar.aviv\\AppData\\Local\\anaconda3\\Lib\\site-packages\\sklearn\\utils\\_param_validation.py\", line 95, in validate_parameter_constraints\n",
      "    raise InvalidParameterError(\n",
      "sklearn.utils._param_validation.InvalidParameterError: The 'max_features' parameter of RandomForestRegressor must be an int in the range [1, inf), a float in the range (0.0, 1.0], a str among {'log2', 'sqrt'} or None. Got 'auto' instead.\n",
      "\n",
      "--------------------------------------------------------------------------------\n",
      "225 fits failed with the following error:\n",
      "Traceback (most recent call last):\n",
      "  File \"C:\\Users\\matar.aviv\\AppData\\Local\\anaconda3\\Lib\\site-packages\\sklearn\\model_selection\\_validation.py\", line 732, in _fit_and_score\n",
      "    estimator.fit(X_train, y_train, **fit_params)\n",
      "  File \"C:\\Users\\matar.aviv\\AppData\\Local\\anaconda3\\Lib\\site-packages\\sklearn\\base.py\", line 1144, in wrapper\n",
      "    estimator._validate_params()\n",
      "  File \"C:\\Users\\matar.aviv\\AppData\\Local\\anaconda3\\Lib\\site-packages\\sklearn\\base.py\", line 637, in _validate_params\n",
      "    validate_parameter_constraints(\n",
      "  File \"C:\\Users\\matar.aviv\\AppData\\Local\\anaconda3\\Lib\\site-packages\\sklearn\\utils\\_param_validation.py\", line 95, in validate_parameter_constraints\n",
      "    raise InvalidParameterError(\n",
      "sklearn.utils._param_validation.InvalidParameterError: The 'max_features' parameter of RandomForestRegressor must be an int in the range [1, inf), a float in the range (0.0, 1.0], a str among {'sqrt', 'log2'} or None. Got 'auto' instead.\n",
      "\n",
      "  warnings.warn(some_fits_failed_message, FitFailedWarning)\n",
      "C:\\Users\\matar.aviv\\AppData\\Local\\anaconda3\\Lib\\site-packages\\sklearn\\model_selection\\_search.py:976: UserWarning: One or more of the test scores are non-finite: [            nan             nan             nan             nan\n",
      "             nan             nan             nan             nan\n",
      "             nan             nan             nan             nan\n",
      "             nan             nan             nan             nan\n",
      "             nan             nan             nan             nan\n",
      "             nan             nan             nan             nan\n",
      "             nan             nan             nan             nan\n",
      "             nan             nan             nan             nan\n",
      "             nan             nan             nan             nan\n",
      " -55785.18228164 -49926.0413908  -49577.1584379  -49334.74669824\n",
      " -55215.38642751 -50352.46464001 -49785.61715402 -49538.18224631\n",
      " -60716.16176301 -53950.98171958 -53072.82234751 -52302.53441578\n",
      " -55600.06640101 -52073.71871615 -52150.90399674 -51010.85029443\n",
      " -57005.2655225  -51883.87428    -51458.19231133 -50694.61176955\n",
      " -58433.12398357 -54034.99555621 -52591.71190812 -52230.74775037\n",
      " -57010.03533154 -54296.92793705 -55164.10318221 -55124.08626738\n",
      " -57010.03533154 -54296.92793705 -55164.10318221 -55124.08626738\n",
      " -59062.60167857 -55857.50907796 -55833.08390734 -55476.16253068\n",
      " -55785.18228164 -49926.0413908  -49577.1584379  -49334.74669824\n",
      " -55215.38642751 -50352.46464001 -49785.61715402 -49538.18224631\n",
      " -60716.16176301 -53950.98171958 -53072.82234751 -52302.53441578\n",
      " -55600.06640101 -52073.71871615 -52150.90399674 -51010.85029443\n",
      " -57005.2655225  -51883.87428    -51458.19231133 -50694.61176955\n",
      " -58433.12398357 -54034.99555621 -52591.71190812 -52230.74775037\n",
      " -57010.03533154 -54296.92793705 -55164.10318221 -55124.08626738\n",
      " -57010.03533154 -54296.92793705 -55164.10318221 -55124.08626738\n",
      " -59062.60167857 -55857.50907796 -55833.08390734 -55476.16253068\n",
      "             nan             nan             nan             nan\n",
      "             nan             nan             nan             nan\n",
      "             nan             nan             nan             nan\n",
      "             nan             nan             nan             nan\n",
      "             nan             nan             nan             nan\n",
      "             nan             nan             nan             nan\n",
      "             nan             nan             nan             nan\n",
      "             nan             nan             nan             nan\n",
      "             nan             nan             nan             nan\n",
      " -59890.80347106 -52243.53443539 -51515.32978024 -51874.03363438\n",
      " -55347.7290482  -52770.3870272  -52703.70486242 -51526.8949581\n",
      " -55007.67828585 -52970.92271017 -53117.25076201 -53682.05645926\n",
      " -58601.66748977 -52235.9237257  -53647.11768397 -52340.00619381\n",
      " -58925.43923123 -54565.03310383 -53105.25924952 -53512.14789422\n",
      " -60424.9118874  -55325.77105611 -55482.20899288 -53921.16941406\n",
      " -63941.29578851 -57203.83926396 -56299.9983713  -56150.8227414\n",
      " -63941.29578851 -57203.83926396 -56299.9983713  -56150.8227414\n",
      " -64390.92914024 -56986.83126408 -56310.79332538 -55575.31569614\n",
      " -59890.80347106 -52243.53443539 -51515.32978024 -51874.03363438\n",
      " -55347.7290482  -52770.3870272  -52703.70486242 -51526.8949581\n",
      " -55007.67828585 -52970.92271017 -53117.25076201 -53682.05645926\n",
      " -58601.66748977 -52235.9237257  -53647.11768397 -52340.00619381\n",
      " -58925.43923123 -54565.03310383 -53105.25924952 -53512.14789422\n",
      " -60424.9118874  -55325.77105611 -55482.20899288 -53921.16941406\n",
      " -63941.29578851 -57203.83926396 -56299.9983713  -56150.8227414\n",
      " -63941.29578851 -57203.83926396 -56299.9983713  -56150.8227414\n",
      " -64390.92914024 -56986.83126408 -56310.79332538 -55575.31569614\n",
      "             nan             nan             nan             nan\n",
      "             nan             nan             nan             nan\n",
      "             nan             nan             nan             nan\n",
      "             nan             nan             nan             nan\n",
      "             nan             nan             nan             nan\n",
      "             nan             nan             nan             nan\n",
      "             nan             nan             nan             nan\n",
      "             nan             nan             nan             nan\n",
      "             nan             nan             nan             nan\n",
      " -60382.98261962 -51269.23137467 -50727.14690295 -49871.18227692\n",
      " -54380.5871197  -50355.30778372 -49904.62497469 -49902.73881589\n",
      " -59329.49692147 -53554.42676381 -52087.45091672 -52046.69391448\n",
      " -59740.65424116 -52581.88046526 -52495.02689905 -50962.50403449\n",
      " -58398.68296125 -53103.49385473 -52053.58554277 -50847.49744656\n",
      " -59813.17117357 -56088.94949639 -54897.41867883 -54288.53563788\n",
      " -58082.26542842 -55155.39044887 -56104.16314365 -55750.8275191\n",
      " -58082.26542842 -55155.39044887 -56104.16314365 -55750.8275191\n",
      " -61115.2884877  -56865.92298898 -56812.93673828 -56095.62978759\n",
      " -60382.98261962 -51269.23137467 -50727.14690295 -49871.18227692\n",
      " -54380.5871197  -50355.30778372 -49904.62497469 -49902.73881589\n",
      " -59329.49692147 -53554.42676381 -52087.45091672 -52046.69391448\n",
      " -59740.65424116 -52581.88046526 -52495.02689905 -50962.50403449\n",
      " -58398.68296125 -53103.49385473 -52053.58554277 -50847.49744656\n",
      " -59813.17117357 -56088.94949639 -54897.41867883 -54288.53563788\n",
      " -58082.26542842 -55155.39044887 -56104.16314365 -55750.8275191\n",
      " -58082.26542842 -55155.39044887 -56104.16314365 -55750.8275191\n",
      " -61115.2884877  -56865.92298898 -56812.93673828 -56095.62978759\n",
      "             nan             nan             nan             nan\n",
      "             nan             nan             nan             nan\n",
      "             nan             nan             nan             nan\n",
      "             nan             nan             nan             nan\n",
      "             nan             nan             nan             nan\n",
      "             nan             nan             nan             nan\n",
      "             nan             nan             nan             nan\n",
      "             nan             nan             nan             nan\n",
      "             nan             nan             nan             nan\n",
      " -56463.75374526 -50439.3401407  -50878.98430069 -49609.52344566\n",
      " -54886.51431687 -50135.51726809 -49429.66459469 -49543.68446376\n",
      " -60723.16569874 -54068.61291101 -53124.49745948 -52351.71779728\n",
      " -57976.17304525 -52262.73314192 -52348.98083752 -51149.29882708\n",
      " -57188.75757753 -51923.28973908 -51534.00672565 -50710.1957913\n",
      " -58433.12398357 -54034.99555621 -52564.07124318 -52231.94186821\n",
      " -57010.03533154 -54296.92793705 -55164.10318221 -55124.08626738\n",
      " -57010.03533154 -54296.92793705 -55164.10318221 -55124.08626738\n",
      " -59062.60167857 -55857.50907796 -55833.08390734 -55476.16253068\n",
      " -56463.75374526 -50439.3401407  -50878.98430069 -49609.52344566\n",
      " -54886.51431687 -50135.51726809 -49429.66459469 -49543.68446376\n",
      " -60723.16569874 -54068.61291101 -53124.49745948 -52351.71779728\n",
      " -57976.17304525 -52262.73314192 -52348.98083752 -51149.29882708\n",
      " -57188.75757753 -51923.28973908 -51534.00672565 -50710.1957913\n",
      " -58433.12398357 -54034.99555621 -52564.07124318 -52231.94186821\n",
      " -57010.03533154 -54296.92793705 -55164.10318221 -55124.08626738\n",
      " -57010.03533154 -54296.92793705 -55164.10318221 -55124.08626738\n",
      " -59062.60167857 -55857.50907796 -55833.08390734 -55476.16253068\n",
      "             nan             nan             nan             nan\n",
      "             nan             nan             nan             nan\n",
      "             nan             nan             nan             nan\n",
      "             nan             nan             nan             nan\n",
      "             nan             nan             nan             nan\n",
      "             nan             nan             nan             nan\n",
      "             nan             nan             nan             nan\n",
      "             nan             nan             nan             nan\n",
      "             nan             nan             nan             nan\n",
      " -55785.18228164 -49926.0413908  -49577.1584379  -49334.74669824\n",
      " -55215.38642751 -50352.46464001 -49785.61715402 -49538.18224631\n",
      " -60716.16176301 -53950.98171958 -53072.82234751 -52302.53441578\n",
      " -55600.06640101 -52073.71871615 -52150.90399674 -51010.85029443\n",
      " -57005.2655225  -51883.87428    -51458.19231133 -50694.61176955\n",
      " -58433.12398357 -54034.99555621 -52591.71190812 -52230.74775037\n",
      " -57010.03533154 -54296.92793705 -55164.10318221 -55124.08626738\n",
      " -57010.03533154 -54296.92793705 -55164.10318221 -55124.08626738\n",
      " -59062.60167857 -55857.50907796 -55833.08390734 -55476.16253068\n",
      " -55785.18228164 -49926.0413908  -49577.1584379  -49334.74669824\n",
      " -55215.38642751 -50352.46464001 -49785.61715402 -49538.18224631\n",
      " -60716.16176301 -53950.98171958 -53072.82234751 -52302.53441578\n",
      " -55600.06640101 -52073.71871615 -52150.90399674 -51010.85029443\n",
      " -57005.2655225  -51883.87428    -51458.19231133 -50694.61176955\n",
      " -58433.12398357 -54034.99555621 -52591.71190812 -52230.74775037\n",
      " -57010.03533154 -54296.92793705 -55164.10318221 -55124.08626738\n",
      " -57010.03533154 -54296.92793705 -55164.10318221 -55124.08626738\n",
      " -59062.60167857 -55857.50907796 -55833.08390734 -55476.16253068\n",
      "             nan             nan             nan             nan\n",
      "             nan             nan             nan             nan\n",
      "             nan             nan             nan             nan\n",
      "             nan             nan             nan             nan\n",
      "             nan             nan             nan             nan\n",
      "             nan             nan             nan             nan\n",
      "             nan             nan             nan             nan\n",
      "             nan             nan             nan             nan\n",
      "             nan             nan             nan             nan\n",
      " -55785.18228164 -49926.0413908  -49577.1584379  -49334.74669824\n",
      " -55215.38642751 -50352.46464001 -49785.61715402 -49538.18224631\n",
      " -60716.16176301 -53950.98171958 -53072.82234751 -52302.53441578\n",
      " -55600.06640101 -52073.71871615 -52150.90399674 -51010.85029443\n",
      " -57005.2655225  -51883.87428    -51458.19231133 -50694.61176955\n",
      " -58433.12398357 -54034.99555621 -52591.71190812 -52230.74775037\n",
      " -57010.03533154 -54296.92793705 -55164.10318221 -55124.08626738\n",
      " -57010.03533154 -54296.92793705 -55164.10318221 -55124.08626738\n",
      " -59062.60167857 -55857.50907796 -55833.08390734 -55476.16253068\n",
      " -55785.18228164 -49926.0413908  -49577.1584379  -49334.74669824\n",
      " -55215.38642751 -50352.46464001 -49785.61715402 -49538.18224631\n",
      " -60716.16176301 -53950.98171958 -53072.82234751 -52302.53441578\n",
      " -55600.06640101 -52073.71871615 -52150.90399674 -51010.85029443\n",
      " -57005.2655225  -51883.87428    -51458.19231133 -50694.61176955\n",
      " -58433.12398357 -54034.99555621 -52591.71190812 -52230.74775037\n",
      " -57010.03533154 -54296.92793705 -55164.10318221 -55124.08626738\n",
      " -57010.03533154 -54296.92793705 -55164.10318221 -55124.08626738\n",
      " -59062.60167857 -55857.50907796 -55833.08390734 -55476.16253068]\n",
      "  warnings.warn(\n"
     ]
    },
    {
     "name": "stdout",
     "output_type": "stream",
     "text": [
      "Best Parameters (RF): {'max_depth': None, 'max_features': 'sqrt', 'min_samples_leaf': 1, 'min_samples_split': 2, 'n_estimators': 200}\n",
      "Best Score (MSE): 49334.746698244206\n"
     ]
    }
   ],
   "source": [
    "# Fit GridSearchCV to the training data\n",
    "grid_search_rf.fit(X_train, y_train)\n",
    "\n",
    "# Print the best hyperparameters and corresponding score for Random Forest (convert negative MSE to positive MSE)\n",
    "print(\"Best Parameters (RF):\", grid_search_rf.best_params_)\n",
    "print(\"Best Score (MSE):\", -grid_search_rf.best_score_)"
   ]
  },
  {
   "cell_type": "code",
   "execution_count": 39,
   "id": "43687f8d",
   "metadata": {},
   "outputs": [],
   "source": [
    "# Predict on the training data using the best Random Forest model\n",
    "pred8 = grid_search_rf.predict(X_train)\n",
    "\n",
    "# Replace negative predictions with zero for development data\n",
    "pred8_pos = np.maximum(pred8, 0)\n",
    "\n",
    "# Add the model's training performance metrics to models_list\n",
    "model_dict = {'model': \"rf_FT\"}\n",
    "new_row = pd.DataFrame([{**model_dict, **regressionMetrics(y_train, pred8_pos)}])\n",
    "models_list = pd.concat([models_list, new_row], ignore_index=True)"
   ]
  },
  {
   "cell_type": "code",
   "execution_count": 40,
   "id": "3e173803",
   "metadata": {},
   "outputs": [],
   "source": [
    "\n",
    "# Predict on the development data using the best Random Forest model\n",
    "pred8_dev = grid_search_rf.predict(X_dev)\n",
    "\n",
    "# Replace negative predictions with zero for development data\n",
    "pred8_dev_pos = np.maximum(pred8_dev, 0)\n",
    "\n",
    "# Add the model's development performance metrics to models_list_dev\n",
    "model_dict_dev = {'model_dev': \"rf_FT\"}\n",
    "new_row = pd.DataFrame([{**model_dict_dev, **regressionMetrics(y_dev, pred8_dev_pos)}])\n",
    "models_list_dev = pd.concat([models_list_dev, new_row], ignore_index=True)"
   ]
  },
  {
   "cell_type": "code",
   "execution_count": 45,
   "id": "9fea2d10",
   "metadata": {},
   "outputs": [],
   "source": [
    "# Fine-tuning XGBoost model using GridSearchCV\n",
    "# Instantiate GridSearchCV with XGBoost model and defined parameter grid\n",
    "grid_search_xgb = GridSearchCV(\n",
    "    estimator=mod7,  # XGBoost regressor model\n",
    "    param_grid=param_grid,  # Hyperparameter grid to search\n",
    "    cv=3,  # 3-fold cross-validation\n",
    "    n_jobs=-1,  # Use all available CPU cores for parallel processing\n",
    "    verbose=2,  # Detailed output for each iteration\n",
    "    scoring='neg_mean_squared_error'  # Evaluation metric: negative mean squared error\n",
    ")"
   ]
  },
  {
   "cell_type": "code",
   "execution_count": 46,
   "id": "45a0255f",
   "metadata": {},
   "outputs": [
    {
     "name": "stdout",
     "output_type": "stream",
     "text": [
      "Fitting 3 folds for each of 648 candidates, totalling 1944 fits\n",
      "[13:02:50] WARNING: C:/Users/administrator/workspace/xgboost-win64_release_1.6.0/src/learner.cc:627: \n",
      "Parameters: { \"max_features\", \"min_samples_leaf\", \"min_samples_split\" } might not be used.\n",
      "\n",
      "  This could be a false alarm, with some parameters getting used by language bindings but\n",
      "  then being mistakenly passed down to XGBoost core, or some parameter actually being used\n",
      "  but getting flagged wrongly here. Please open an issue if you find any such cases.\n",
      "\n",
      "\n",
      "Best Parameters (XGB): {'max_depth': 10, 'max_features': 'auto', 'min_samples_leaf': 1, 'min_samples_split': 2, 'n_estimators': 50}\n",
      "Best Score (MSE): 38283.54682097651\n"
     ]
    }
   ],
   "source": [
    "# Fit GridSearchCV to the training data\n",
    "grid_search_xgb.fit(X_train, y_train)\n",
    "\n",
    "# Print the best hyperparameters and corresponding score (convert negative MSE to positive MSE)\n",
    "print(\"Best Parameters (XGB):\", grid_search_xgb.best_params_)\n",
    "print(\"Best Score (MSE):\", -grid_search_xgb.best_score_)"
   ]
  },
  {
   "cell_type": "code",
   "execution_count": 47,
   "id": "66bca5cc",
   "metadata": {},
   "outputs": [],
   "source": [
    "# Predict on the training data using the best XGBoost model\n",
    "pred9 = grid_search_xgb.predict(X_train)\n",
    "\n",
    "# Replace any negative predictions with zero (since target cannot be negative)\n",
    "pred9_pos = np.maximum(pred9, 0)\n",
    "\n",
    "# Add the model's training performance metrics to models_list\n",
    "model_dict = {'model': \"XGB_FT\"}\n",
    "new_row = pd.DataFrame([{**model_dict, **regressionMetrics(y_train, pred9_pos)}])\n",
    "models_list = pd.concat([models_list, new_row], ignore_index=True)"
   ]
  },
  {
   "cell_type": "code",
   "execution_count": 48,
   "id": "041c4d14",
   "metadata": {},
   "outputs": [],
   "source": [
    "# Predict on the development data using the best XGBoost model\n",
    "pred9_dev = grid_search_xgb.predict(X_dev)\n",
    "\n",
    "# Replace negative predictions with zero for development data\n",
    "pred9_dev_pos = np.maximum(pred9_dev, 0)\n",
    "\n",
    "# Add the model's development performance metrics to models_list_dev\n",
    "model_dict_dev = {'model_dev': \"XGB_FT\"}\n",
    "new_row = pd.DataFrame([{**model_dict_dev, **regressionMetrics(y_dev, pred9_dev_pos)}])\n",
    "models_list_dev = pd.concat([models_list_dev, new_row], ignore_index=True)"
   ]
  },
  {
   "cell_type": "code",
   "execution_count": 49,
   "id": "42561b5b",
   "metadata": {},
   "outputs": [
    {
     "data": {
      "text/html": [
       "<div>\n",
       "<style scoped>\n",
       "    .dataframe tbody tr th:only-of-type {\n",
       "        vertical-align: middle;\n",
       "    }\n",
       "\n",
       "    .dataframe tbody tr th {\n",
       "        vertical-align: top;\n",
       "    }\n",
       "\n",
       "    .dataframe thead th {\n",
       "        text-align: right;\n",
       "    }\n",
       "</style>\n",
       "<table border=\"1\" class=\"dataframe\">\n",
       "  <thead>\n",
       "    <tr style=\"text-align: right;\">\n",
       "      <th></th>\n",
       "      <th>model</th>\n",
       "      <th>MSE</th>\n",
       "      <th>RMSE</th>\n",
       "      <th>MAE</th>\n",
       "      <th>RMSLE</th>\n",
       "    </tr>\n",
       "  </thead>\n",
       "  <tbody>\n",
       "    <tr>\n",
       "      <th>0</th>\n",
       "      <td>Linear Regression</td>\n",
       "      <td>25806.005455</td>\n",
       "      <td>160.642477</td>\n",
       "      <td>64.704356</td>\n",
       "      <td>1.350842</td>\n",
       "    </tr>\n",
       "    <tr>\n",
       "      <th>1</th>\n",
       "      <td>Decision Tree</td>\n",
       "      <td>0.000000</td>\n",
       "      <td>0.000000</td>\n",
       "      <td>0.000000</td>\n",
       "      <td>0.000000</td>\n",
       "    </tr>\n",
       "    <tr>\n",
       "      <th>2</th>\n",
       "      <td>RandomForest</td>\n",
       "      <td>4901.465203</td>\n",
       "      <td>70.010465</td>\n",
       "      <td>21.814075</td>\n",
       "      <td>0.345265</td>\n",
       "    </tr>\n",
       "    <tr>\n",
       "      <th>3</th>\n",
       "      <td>ADABoost</td>\n",
       "      <td>32009.299557</td>\n",
       "      <td>178.911429</td>\n",
       "      <td>154.288314</td>\n",
       "      <td>2.278057</td>\n",
       "    </tr>\n",
       "    <tr>\n",
       "      <th>4</th>\n",
       "      <td>GBM</td>\n",
       "      <td>6673.562572</td>\n",
       "      <td>81.691876</td>\n",
       "      <td>42.332449</td>\n",
       "      <td>0.848068</td>\n",
       "    </tr>\n",
       "    <tr>\n",
       "      <th>5</th>\n",
       "      <td>SVM</td>\n",
       "      <td>161299.487775</td>\n",
       "      <td>401.621075</td>\n",
       "      <td>139.424408</td>\n",
       "      <td>1.796727</td>\n",
       "    </tr>\n",
       "    <tr>\n",
       "      <th>6</th>\n",
       "      <td>XGBOOST</td>\n",
       "      <td>294.770142</td>\n",
       "      <td>17.168871</td>\n",
       "      <td>10.717069</td>\n",
       "      <td>0.510222</td>\n",
       "    </tr>\n",
       "    <tr>\n",
       "      <th>7</th>\n",
       "      <td>rf_FT</td>\n",
       "      <td>6348.055607</td>\n",
       "      <td>79.674686</td>\n",
       "      <td>25.096365</td>\n",
       "      <td>0.595228</td>\n",
       "    </tr>\n",
       "    <tr>\n",
       "      <th>8</th>\n",
       "      <td>XGB_FT</td>\n",
       "      <td>34.107287</td>\n",
       "      <td>5.840144</td>\n",
       "      <td>3.690213</td>\n",
       "      <td>0.287636</td>\n",
       "    </tr>\n",
       "  </tbody>\n",
       "</table>\n",
       "</div>"
      ],
      "text/plain": [
       "               model            MSE        RMSE         MAE     RMSLE\n",
       "0  Linear Regression   25806.005455  160.642477   64.704356  1.350842\n",
       "1      Decision Tree       0.000000    0.000000    0.000000  0.000000\n",
       "2       RandomForest    4901.465203   70.010465   21.814075  0.345265\n",
       "3           ADABoost   32009.299557  178.911429  154.288314  2.278057\n",
       "4                GBM    6673.562572   81.691876   42.332449  0.848068\n",
       "5                SVM  161299.487775  401.621075  139.424408  1.796727\n",
       "6            XGBOOST     294.770142   17.168871   10.717069  0.510222\n",
       "7              rf_FT    6348.055607   79.674686   25.096365  0.595228\n",
       "8             XGB_FT      34.107287    5.840144    3.690213  0.287636"
      ]
     },
     "execution_count": 49,
     "metadata": {},
     "output_type": "execute_result"
    }
   ],
   "source": [
    "models_list"
   ]
  },
  {
   "cell_type": "code",
   "execution_count": 50,
   "id": "3d741b6f",
   "metadata": {},
   "outputs": [
    {
     "data": {
      "text/html": [
       "<div>\n",
       "<style scoped>\n",
       "    .dataframe tbody tr th:only-of-type {\n",
       "        vertical-align: middle;\n",
       "    }\n",
       "\n",
       "    .dataframe tbody tr th {\n",
       "        vertical-align: top;\n",
       "    }\n",
       "\n",
       "    .dataframe thead th {\n",
       "        text-align: right;\n",
       "    }\n",
       "</style>\n",
       "<table border=\"1\" class=\"dataframe\">\n",
       "  <thead>\n",
       "    <tr style=\"text-align: right;\">\n",
       "      <th></th>\n",
       "      <th>model_dev</th>\n",
       "      <th>MSE</th>\n",
       "      <th>RMSE</th>\n",
       "      <th>MAE</th>\n",
       "      <th>RMSLE</th>\n",
       "    </tr>\n",
       "  </thead>\n",
       "  <tbody>\n",
       "    <tr>\n",
       "      <th>0</th>\n",
       "      <td>Linear Regression</td>\n",
       "      <td>50416.240850</td>\n",
       "      <td>224.535612</td>\n",
       "      <td>77.018828</td>\n",
       "      <td>1.349811</td>\n",
       "    </tr>\n",
       "    <tr>\n",
       "      <th>1</th>\n",
       "      <td>Decision Tree</td>\n",
       "      <td>68230.594010</td>\n",
       "      <td>261.209866</td>\n",
       "      <td>86.028286</td>\n",
       "      <td>0.818971</td>\n",
       "    </tr>\n",
       "    <tr>\n",
       "      <th>2</th>\n",
       "      <td>RandomForest</td>\n",
       "      <td>54174.012680</td>\n",
       "      <td>232.753115</td>\n",
       "      <td>72.380050</td>\n",
       "      <td>0.602751</td>\n",
       "    </tr>\n",
       "    <tr>\n",
       "      <th>3</th>\n",
       "      <td>ADABoost</td>\n",
       "      <td>71672.009402</td>\n",
       "      <td>267.716285</td>\n",
       "      <td>175.851780</td>\n",
       "      <td>2.245301</td>\n",
       "    </tr>\n",
       "    <tr>\n",
       "      <th>4</th>\n",
       "      <td>GBM</td>\n",
       "      <td>56955.436840</td>\n",
       "      <td>238.653382</td>\n",
       "      <td>74.290338</td>\n",
       "      <td>0.856227</td>\n",
       "    </tr>\n",
       "    <tr>\n",
       "      <th>5</th>\n",
       "      <td>SVM</td>\n",
       "      <td>158872.280582</td>\n",
       "      <td>398.587858</td>\n",
       "      <td>155.004150</td>\n",
       "      <td>1.806833</td>\n",
       "    </tr>\n",
       "    <tr>\n",
       "      <th>6</th>\n",
       "      <td>XGBOOST</td>\n",
       "      <td>58872.564723</td>\n",
       "      <td>242.636693</td>\n",
       "      <td>76.401034</td>\n",
       "      <td>0.775028</td>\n",
       "    </tr>\n",
       "    <tr>\n",
       "      <th>7</th>\n",
       "      <td>rf_FT</td>\n",
       "      <td>47338.665958</td>\n",
       "      <td>217.574507</td>\n",
       "      <td>75.260300</td>\n",
       "      <td>0.961345</td>\n",
       "    </tr>\n",
       "    <tr>\n",
       "      <th>8</th>\n",
       "      <td>XGB_FT</td>\n",
       "      <td>56154.138898</td>\n",
       "      <td>236.968645</td>\n",
       "      <td>72.234142</td>\n",
       "      <td>0.690394</td>\n",
       "    </tr>\n",
       "  </tbody>\n",
       "</table>\n",
       "</div>"
      ],
      "text/plain": [
       "           model_dev            MSE        RMSE         MAE     RMSLE\n",
       "0  Linear Regression   50416.240850  224.535612   77.018828  1.349811\n",
       "1      Decision Tree   68230.594010  261.209866   86.028286  0.818971\n",
       "2       RandomForest   54174.012680  232.753115   72.380050  0.602751\n",
       "3           ADABoost   71672.009402  267.716285  175.851780  2.245301\n",
       "4                GBM   56955.436840  238.653382   74.290338  0.856227\n",
       "5                SVM  158872.280582  398.587858  155.004150  1.806833\n",
       "6            XGBOOST   58872.564723  242.636693   76.401034  0.775028\n",
       "7              rf_FT   47338.665958  217.574507   75.260300  0.961345\n",
       "8             XGB_FT   56154.138898  236.968645   72.234142  0.690394"
      ]
     },
     "execution_count": 50,
     "metadata": {},
     "output_type": "execute_result"
    }
   ],
   "source": [
    "models_list_dev"
   ]
  },
  {
   "cell_type": "code",
   "execution_count": 43,
   "id": "8c10bcf7",
   "metadata": {},
   "outputs": [
    {
     "data": {
      "text/html": [
       "<style>#sk-container-id-8 {color: black;}#sk-container-id-8 pre{padding: 0;}#sk-container-id-8 div.sk-toggleable {background-color: white;}#sk-container-id-8 label.sk-toggleable__label {cursor: pointer;display: block;width: 100%;margin-bottom: 0;padding: 0.3em;box-sizing: border-box;text-align: center;}#sk-container-id-8 label.sk-toggleable__label-arrow:before {content: \"▸\";float: left;margin-right: 0.25em;color: #696969;}#sk-container-id-8 label.sk-toggleable__label-arrow:hover:before {color: black;}#sk-container-id-8 div.sk-estimator:hover label.sk-toggleable__label-arrow:before {color: black;}#sk-container-id-8 div.sk-toggleable__content {max-height: 0;max-width: 0;overflow: hidden;text-align: left;background-color: #f0f8ff;}#sk-container-id-8 div.sk-toggleable__content pre {margin: 0.2em;color: black;border-radius: 0.25em;background-color: #f0f8ff;}#sk-container-id-8 input.sk-toggleable__control:checked~div.sk-toggleable__content {max-height: 200px;max-width: 100%;overflow: auto;}#sk-container-id-8 input.sk-toggleable__control:checked~label.sk-toggleable__label-arrow:before {content: \"▾\";}#sk-container-id-8 div.sk-estimator input.sk-toggleable__control:checked~label.sk-toggleable__label {background-color: #d4ebff;}#sk-container-id-8 div.sk-label input.sk-toggleable__control:checked~label.sk-toggleable__label {background-color: #d4ebff;}#sk-container-id-8 input.sk-hidden--visually {border: 0;clip: rect(1px 1px 1px 1px);clip: rect(1px, 1px, 1px, 1px);height: 1px;margin: -1px;overflow: hidden;padding: 0;position: absolute;width: 1px;}#sk-container-id-8 div.sk-estimator {font-family: monospace;background-color: #f0f8ff;border: 1px dotted black;border-radius: 0.25em;box-sizing: border-box;margin-bottom: 0.5em;}#sk-container-id-8 div.sk-estimator:hover {background-color: #d4ebff;}#sk-container-id-8 div.sk-parallel-item::after {content: \"\";width: 100%;border-bottom: 1px solid gray;flex-grow: 1;}#sk-container-id-8 div.sk-label:hover label.sk-toggleable__label {background-color: #d4ebff;}#sk-container-id-8 div.sk-serial::before {content: \"\";position: absolute;border-left: 1px solid gray;box-sizing: border-box;top: 0;bottom: 0;left: 50%;z-index: 0;}#sk-container-id-8 div.sk-serial {display: flex;flex-direction: column;align-items: center;background-color: white;padding-right: 0.2em;padding-left: 0.2em;position: relative;}#sk-container-id-8 div.sk-item {position: relative;z-index: 1;}#sk-container-id-8 div.sk-parallel {display: flex;align-items: stretch;justify-content: center;background-color: white;position: relative;}#sk-container-id-8 div.sk-item::before, #sk-container-id-8 div.sk-parallel-item::before {content: \"\";position: absolute;border-left: 1px solid gray;box-sizing: border-box;top: 0;bottom: 0;left: 50%;z-index: -1;}#sk-container-id-8 div.sk-parallel-item {display: flex;flex-direction: column;z-index: 1;position: relative;background-color: white;}#sk-container-id-8 div.sk-parallel-item:first-child::after {align-self: flex-end;width: 50%;}#sk-container-id-8 div.sk-parallel-item:last-child::after {align-self: flex-start;width: 50%;}#sk-container-id-8 div.sk-parallel-item:only-child::after {width: 0;}#sk-container-id-8 div.sk-dashed-wrapped {border: 1px dashed gray;margin: 0 0.4em 0.5em 0.4em;box-sizing: border-box;padding-bottom: 0.4em;background-color: white;}#sk-container-id-8 div.sk-label label {font-family: monospace;font-weight: bold;display: inline-block;line-height: 1.2em;}#sk-container-id-8 div.sk-label-container {text-align: center;}#sk-container-id-8 div.sk-container {/* jupyter's `normalize.less` sets `[hidden] { display: none; }` but bootstrap.min.css set `[hidden] { display: none !important; }` so we also need the `!important` here to be able to override the default hidden behavior on the sphinx rendered scikit-learn.org. See: https://github.com/scikit-learn/scikit-learn/issues/21755 */display: inline-block !important;position: relative;}#sk-container-id-8 div.sk-text-repr-fallback {display: none;}</style><div id=\"sk-container-id-8\" class=\"sk-top-container\"><div class=\"sk-text-repr-fallback\"><pre>RandomForestRegressor(max_features=&#x27;sqrt&#x27;, n_estimators=200, random_state=1)</pre><b>In a Jupyter environment, please rerun this cell to show the HTML representation or trust the notebook. <br />On GitHub, the HTML representation is unable to render, please try loading this page with nbviewer.org.</b></div><div class=\"sk-container\" hidden><div class=\"sk-item\"><div class=\"sk-estimator sk-toggleable\"><input class=\"sk-toggleable__control sk-hidden--visually\" id=\"sk-estimator-id-8\" type=\"checkbox\" checked><label for=\"sk-estimator-id-8\" class=\"sk-toggleable__label sk-toggleable__label-arrow\">RandomForestRegressor</label><div class=\"sk-toggleable__content\"><pre>RandomForestRegressor(max_features=&#x27;sqrt&#x27;, n_estimators=200, random_state=1)</pre></div></div></div></div></div>"
      ],
      "text/plain": [
       "RandomForestRegressor(max_features='sqrt', n_estimators=200, random_state=1)"
      ]
     },
     "execution_count": 43,
     "metadata": {},
     "output_type": "execute_result"
    }
   ],
   "source": [
    "# Evaluate the chosen model on the test data\n",
    "\n",
    "# Assuming rf_FT is the chosen model\n",
    "# You may need to replace rf_FT with grid_search_rf.best_estimator_ if grid search is used\n",
    "chosen_model = grid_search_rf.best_estimator_  # For Random Forest\n",
    "# chosen_model = grid_search_xgb.best_estimator_  # If XGBoost is chosen\n",
    "chosen_model"
   ]
  },
  {
   "cell_type": "code",
   "execution_count": 44,
   "id": "c6e11a27",
   "metadata": {},
   "outputs": [
    {
     "name": "stdout",
     "output_type": "stream",
     "text": [
      "Test Metrics: {'MSE': 20472.605295930232, 'RMSE': 143.08251219464324, 'MAE': 65.34715946843853, 'RMSLE': 0.9378647677993182}\n"
     ]
    },
    {
     "data": {
      "text/html": [
       "<div>\n",
       "<style scoped>\n",
       "    .dataframe tbody tr th:only-of-type {\n",
       "        vertical-align: middle;\n",
       "    }\n",
       "\n",
       "    .dataframe tbody tr th {\n",
       "        vertical-align: top;\n",
       "    }\n",
       "\n",
       "    .dataframe thead th {\n",
       "        text-align: right;\n",
       "    }\n",
       "</style>\n",
       "<table border=\"1\" class=\"dataframe\">\n",
       "  <thead>\n",
       "    <tr style=\"text-align: right;\">\n",
       "      <th></th>\n",
       "      <th>model_test</th>\n",
       "      <th>MSE</th>\n",
       "      <th>RMSE</th>\n",
       "      <th>MAE</th>\n",
       "      <th>RMSLE</th>\n",
       "    </tr>\n",
       "  </thead>\n",
       "  <tbody>\n",
       "    <tr>\n",
       "      <th>0</th>\n",
       "      <td>rf_FT</td>\n",
       "      <td>20472.605296</td>\n",
       "      <td>143.082512</td>\n",
       "      <td>65.347159</td>\n",
       "      <td>0.937865</td>\n",
       "    </tr>\n",
       "  </tbody>\n",
       "</table>\n",
       "</div>"
      ],
      "text/plain": [
       "  model_test           MSE        RMSE        MAE     RMSLE\n",
       "0      rf_FT  20472.605296  143.082512  65.347159  0.937865"
      ]
     },
     "execution_count": 44,
     "metadata": {},
     "output_type": "execute_result"
    }
   ],
   "source": [
    "# Predict on the test data\n",
    "pred_test = chosen_model.predict(X_test)\n",
    "\n",
    "# Ensure predictions are non-negative (if applicable)\n",
    "pred_test_pos = np.maximum(pred_test, 0)  # Adjusting for any negative values\n",
    "\n",
    "# Calculate and print metrics for the test set\n",
    "test_metrics = regressionMetrics(y_test, pred_test_pos)\n",
    "print(\"Test Metrics:\", test_metrics)\n",
    "\n",
    "# Optionally, add the test results to your model results DataFrame\n",
    "model_dict_test = {'model_test': \"rf_FT\"}  # Change \"rf_FT\" to \"XGB_FT\" if using XGBoost\n",
    "new_row_test = pd.DataFrame([{**model_dict_test, **test_metrics}])\n",
    "models_list_test = pd.concat([models_list_test, new_row_test], ignore_index=True)\n",
    "models_list_test\n"
   ]
  },
  {
   "cell_type": "code",
   "execution_count": 51,
   "id": "d064b9b6",
   "metadata": {},
   "outputs": [
    {
     "data": {
      "text/html": [
       "<style>#sk-container-id-9 {color: black;}#sk-container-id-9 pre{padding: 0;}#sk-container-id-9 div.sk-toggleable {background-color: white;}#sk-container-id-9 label.sk-toggleable__label {cursor: pointer;display: block;width: 100%;margin-bottom: 0;padding: 0.3em;box-sizing: border-box;text-align: center;}#sk-container-id-9 label.sk-toggleable__label-arrow:before {content: \"▸\";float: left;margin-right: 0.25em;color: #696969;}#sk-container-id-9 label.sk-toggleable__label-arrow:hover:before {color: black;}#sk-container-id-9 div.sk-estimator:hover label.sk-toggleable__label-arrow:before {color: black;}#sk-container-id-9 div.sk-toggleable__content {max-height: 0;max-width: 0;overflow: hidden;text-align: left;background-color: #f0f8ff;}#sk-container-id-9 div.sk-toggleable__content pre {margin: 0.2em;color: black;border-radius: 0.25em;background-color: #f0f8ff;}#sk-container-id-9 input.sk-toggleable__control:checked~div.sk-toggleable__content {max-height: 200px;max-width: 100%;overflow: auto;}#sk-container-id-9 input.sk-toggleable__control:checked~label.sk-toggleable__label-arrow:before {content: \"▾\";}#sk-container-id-9 div.sk-estimator input.sk-toggleable__control:checked~label.sk-toggleable__label {background-color: #d4ebff;}#sk-container-id-9 div.sk-label input.sk-toggleable__control:checked~label.sk-toggleable__label {background-color: #d4ebff;}#sk-container-id-9 input.sk-hidden--visually {border: 0;clip: rect(1px 1px 1px 1px);clip: rect(1px, 1px, 1px, 1px);height: 1px;margin: -1px;overflow: hidden;padding: 0;position: absolute;width: 1px;}#sk-container-id-9 div.sk-estimator {font-family: monospace;background-color: #f0f8ff;border: 1px dotted black;border-radius: 0.25em;box-sizing: border-box;margin-bottom: 0.5em;}#sk-container-id-9 div.sk-estimator:hover {background-color: #d4ebff;}#sk-container-id-9 div.sk-parallel-item::after {content: \"\";width: 100%;border-bottom: 1px solid gray;flex-grow: 1;}#sk-container-id-9 div.sk-label:hover label.sk-toggleable__label {background-color: #d4ebff;}#sk-container-id-9 div.sk-serial::before {content: \"\";position: absolute;border-left: 1px solid gray;box-sizing: border-box;top: 0;bottom: 0;left: 50%;z-index: 0;}#sk-container-id-9 div.sk-serial {display: flex;flex-direction: column;align-items: center;background-color: white;padding-right: 0.2em;padding-left: 0.2em;position: relative;}#sk-container-id-9 div.sk-item {position: relative;z-index: 1;}#sk-container-id-9 div.sk-parallel {display: flex;align-items: stretch;justify-content: center;background-color: white;position: relative;}#sk-container-id-9 div.sk-item::before, #sk-container-id-9 div.sk-parallel-item::before {content: \"\";position: absolute;border-left: 1px solid gray;box-sizing: border-box;top: 0;bottom: 0;left: 50%;z-index: -1;}#sk-container-id-9 div.sk-parallel-item {display: flex;flex-direction: column;z-index: 1;position: relative;background-color: white;}#sk-container-id-9 div.sk-parallel-item:first-child::after {align-self: flex-end;width: 50%;}#sk-container-id-9 div.sk-parallel-item:last-child::after {align-self: flex-start;width: 50%;}#sk-container-id-9 div.sk-parallel-item:only-child::after {width: 0;}#sk-container-id-9 div.sk-dashed-wrapped {border: 1px dashed gray;margin: 0 0.4em 0.5em 0.4em;box-sizing: border-box;padding-bottom: 0.4em;background-color: white;}#sk-container-id-9 div.sk-label label {font-family: monospace;font-weight: bold;display: inline-block;line-height: 1.2em;}#sk-container-id-9 div.sk-label-container {text-align: center;}#sk-container-id-9 div.sk-container {/* jupyter's `normalize.less` sets `[hidden] { display: none; }` but bootstrap.min.css set `[hidden] { display: none !important; }` so we also need the `!important` here to be able to override the default hidden behavior on the sphinx rendered scikit-learn.org. See: https://github.com/scikit-learn/scikit-learn/issues/21755 */display: inline-block !important;position: relative;}#sk-container-id-9 div.sk-text-repr-fallback {display: none;}</style><div id=\"sk-container-id-9\" class=\"sk-top-container\"><div class=\"sk-text-repr-fallback\"><pre>XGBRegressor(base_score=0.5, booster=&#x27;gbtree&#x27;, callbacks=None,\n",
       "             colsample_bylevel=1, colsample_bynode=1, colsample_bytree=1,\n",
       "             early_stopping_rounds=None, enable_categorical=False,\n",
       "             eval_metric=None, gamma=0, gpu_id=-1, grow_policy=&#x27;depthwise&#x27;,\n",
       "             importance_type=None, interaction_constraints=&#x27;&#x27;,\n",
       "             learning_rate=0.300000012, max_bin=256, max_cat_to_onehot=4,\n",
       "             max_delta_step=0, max_depth=10, max_features=&#x27;auto&#x27;, max_leaves=0,\n",
       "             min_child_weight=1, min_samples_leaf=1, min_samples_split=2,\n",
       "             missing=nan, monotone_constraints=&#x27;()&#x27;, n_estimators=50, n_jobs=0,\n",
       "             num_parallel_tree=1, predictor=&#x27;auto&#x27;, ...)</pre><b>In a Jupyter environment, please rerun this cell to show the HTML representation or trust the notebook. <br />On GitHub, the HTML representation is unable to render, please try loading this page with nbviewer.org.</b></div><div class=\"sk-container\" hidden><div class=\"sk-item\"><div class=\"sk-estimator sk-toggleable\"><input class=\"sk-toggleable__control sk-hidden--visually\" id=\"sk-estimator-id-9\" type=\"checkbox\" checked><label for=\"sk-estimator-id-9\" class=\"sk-toggleable__label sk-toggleable__label-arrow\">XGBRegressor</label><div class=\"sk-toggleable__content\"><pre>XGBRegressor(base_score=0.5, booster=&#x27;gbtree&#x27;, callbacks=None,\n",
       "             colsample_bylevel=1, colsample_bynode=1, colsample_bytree=1,\n",
       "             early_stopping_rounds=None, enable_categorical=False,\n",
       "             eval_metric=None, gamma=0, gpu_id=-1, grow_policy=&#x27;depthwise&#x27;,\n",
       "             importance_type=None, interaction_constraints=&#x27;&#x27;,\n",
       "             learning_rate=0.300000012, max_bin=256, max_cat_to_onehot=4,\n",
       "             max_delta_step=0, max_depth=10, max_features=&#x27;auto&#x27;, max_leaves=0,\n",
       "             min_child_weight=1, min_samples_leaf=1, min_samples_split=2,\n",
       "             missing=nan, monotone_constraints=&#x27;()&#x27;, n_estimators=50, n_jobs=0,\n",
       "             num_parallel_tree=1, predictor=&#x27;auto&#x27;, ...)</pre></div></div></div></div></div>"
      ],
      "text/plain": [
       "XGBRegressor(base_score=0.5, booster='gbtree', callbacks=None,\n",
       "             colsample_bylevel=1, colsample_bynode=1, colsample_bytree=1,\n",
       "             early_stopping_rounds=None, enable_categorical=False,\n",
       "             eval_metric=None, gamma=0, gpu_id=-1, grow_policy='depthwise',\n",
       "             importance_type=None, interaction_constraints='',\n",
       "             learning_rate=0.300000012, max_bin=256, max_cat_to_onehot=4,\n",
       "             max_delta_step=0, max_depth=10, max_features='auto', max_leaves=0,\n",
       "             min_child_weight=1, min_samples_leaf=1, min_samples_split=2,\n",
       "             missing=nan, monotone_constraints='()', n_estimators=50, n_jobs=0,\n",
       "             num_parallel_tree=1, predictor='auto', ...)"
      ]
     },
     "execution_count": 51,
     "metadata": {},
     "output_type": "execute_result"
    }
   ],
   "source": [
    "# Evaluate the chosen model on the test data\n",
    "\n",
    "# You may need to replace rf_FT with grid_search_rf.best_estimator_ if grid search is used\n",
    "chosen_model_xgb = grid_search_xgb.best_estimator_  # If XGBoost is chosen\n",
    "chosen_model_xgb"
   ]
  },
  {
   "cell_type": "code",
   "execution_count": 52,
   "id": "499c4d91",
   "metadata": {},
   "outputs": [
    {
     "name": "stdout",
     "output_type": "stream",
     "text": [
      "Test Metrics: {'MSE': 25166.422413787917, 'RMSE': 158.63928395510337, 'MAE': 60.30291770297131, 'RMSLE': 0.6291326172846549}\n"
     ]
    },
    {
     "data": {
      "text/html": [
       "<div>\n",
       "<style scoped>\n",
       "    .dataframe tbody tr th:only-of-type {\n",
       "        vertical-align: middle;\n",
       "    }\n",
       "\n",
       "    .dataframe tbody tr th {\n",
       "        vertical-align: top;\n",
       "    }\n",
       "\n",
       "    .dataframe thead th {\n",
       "        text-align: right;\n",
       "    }\n",
       "</style>\n",
       "<table border=\"1\" class=\"dataframe\">\n",
       "  <thead>\n",
       "    <tr style=\"text-align: right;\">\n",
       "      <th></th>\n",
       "      <th>model_test</th>\n",
       "      <th>MSE</th>\n",
       "      <th>RMSE</th>\n",
       "      <th>MAE</th>\n",
       "      <th>RMSLE</th>\n",
       "    </tr>\n",
       "  </thead>\n",
       "  <tbody>\n",
       "    <tr>\n",
       "      <th>0</th>\n",
       "      <td>rf_FT</td>\n",
       "      <td>20472.605296</td>\n",
       "      <td>143.082512</td>\n",
       "      <td>65.347159</td>\n",
       "      <td>0.937865</td>\n",
       "    </tr>\n",
       "    <tr>\n",
       "      <th>1</th>\n",
       "      <td>XGB_FT</td>\n",
       "      <td>25166.422414</td>\n",
       "      <td>158.639284</td>\n",
       "      <td>60.302918</td>\n",
       "      <td>0.629133</td>\n",
       "    </tr>\n",
       "  </tbody>\n",
       "</table>\n",
       "</div>"
      ],
      "text/plain": [
       "  model_test           MSE        RMSE        MAE     RMSLE\n",
       "0      rf_FT  20472.605296  143.082512  65.347159  0.937865\n",
       "1     XGB_FT  25166.422414  158.639284  60.302918  0.629133"
      ]
     },
     "execution_count": 52,
     "metadata": {},
     "output_type": "execute_result"
    }
   ],
   "source": [
    "# Predict on the test data\n",
    "pred_test_xgb = chosen_model_xgb.predict(X_test)\n",
    "\n",
    "# Ensure predictions are non-negative (if applicable)\n",
    "pred_test_pos_xgb = np.maximum(pred_test_xgb, 0)  # Adjusting for any negative values\n",
    "\n",
    "# Calculate and print metrics for the test set\n",
    "test_metrics = regressionMetrics(y_test, pred_test_pos_xgb)\n",
    "print(\"Test Metrics:\", test_metrics)\n",
    "\n",
    "# Optionally, add the test results to your model results DataFrame\n",
    "model_dict_test = {'model_test': \"XGB_FT\"}  # Change \"rf_FT\" to \"XGB_FT\" if using XGBoost\n",
    "new_row_test = pd.DataFrame([{**model_dict_test, **test_metrics}])\n",
    "models_list_test = pd.concat([models_list_test, new_row_test], ignore_index=True)\n",
    "models_list_test\n"
   ]
  },
  {
   "cell_type": "code",
   "execution_count": null,
   "id": "52389158",
   "metadata": {},
   "outputs": [],
   "source": []
  }
 ],
 "metadata": {
  "kernelspec": {
   "display_name": "Python 3 (ipykernel)",
   "language": "python",
   "name": "python3"
  },
  "language_info": {
   "codemirror_mode": {
    "name": "ipython",
    "version": 3
   },
   "file_extension": ".py",
   "mimetype": "text/x-python",
   "name": "python",
   "nbconvert_exporter": "python",
   "pygments_lexer": "ipython3",
   "version": "3.11.5"
  }
 },
 "nbformat": 4,
 "nbformat_minor": 5
}
